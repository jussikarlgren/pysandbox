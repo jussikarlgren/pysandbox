{
 "cells": [
  {
   "cell_type": "markdown",
   "metadata": {},
   "source": [
    "# Hello world!"
   ]
  },
  {
   "cell_type": "code",
   "execution_count": null,
   "metadata": {},
   "outputs": [],
   "source": [
    "print(\"hello world!\")"
   ]
  },
  {
   "cell_type": "markdown",
   "metadata": {},
   "source": [
    "# TIMTOWDI\n",
    "\n",
    "There's more than one way to do it!\n",
    "\n",
    "https://en.wikipedia.org/wiki/There%27s_more_than_one_way_to_do_it\n",
    "\n"
   ]
  },
  {
   "cell_type": "code",
   "execution_count": 1,
   "metadata": {},
   "outputs": [
    {
     "name": "stdout",
     "output_type": "stream",
     "text": [
      "The Zen of Python, by Tim Peters\n",
      "\n",
      "Beautiful is better than ugly.\n",
      "Explicit is better than implicit.\n",
      "Simple is better than complex.\n",
      "Complex is better than complicated.\n",
      "Flat is better than nested.\n",
      "Sparse is better than dense.\n",
      "Readability counts.\n",
      "Special cases aren't special enough to break the rules.\n",
      "Although practicality beats purity.\n",
      "Errors should never pass silently.\n",
      "Unless explicitly silenced.\n",
      "In the face of ambiguity, refuse the temptation to guess.\n",
      "There should be one-- and preferably only one --obvious way to do it.\n",
      "Although that way may not be obvious at first unless you're Dutch.\n",
      "Now is better than never.\n",
      "Although never is often better than *right* now.\n",
      "If the implementation is hard to explain, it's a bad idea.\n",
      "If the implementation is easy to explain, it may be a good idea.\n",
      "Namespaces are one honking great idea -- let's do more of those!\n"
     ]
    }
   ],
   "source": [
    "import this"
   ]
  },
  {
   "cell_type": "markdown",
   "metadata": {},
   "source": [
    "# ELIZA\n",
    "We will implement an Eliza today. Read up on Eliza! "
   ]
  },
  {
   "cell_type": "markdown",
   "metadata": {},
   "source": [
    "\n",
    "## Command loop\n",
    "\n",
    "Here is a *command loop* to begin from."
   ]
  },
  {
   "cell_type": "code",
   "execution_count": 2,
   "metadata": {},
   "outputs": [],
   "source": [
    "def command_loop():\n",
    "  print('My first command loop ')\n",
    "  instring = ''                      # it is good practice to initialise variables!\n",
    "  while instring != 'quit':\n",
    "    try:\n",
    "        instring = input('> ')\n",
    "    except EOFError:                 # exception handling!\n",
    "        instring = 'quit'  \n",
    "    except:\n",
    "        print(\"hey!\")\n",
    "        instring = 'quit'\n",
    "    print('you typed '+instring)\n",
    "    "
   ]
  },
  {
   "cell_type": "code",
   "execution_count": 3,
   "metadata": {
    "scrolled": true
   },
   "outputs": [
    {
     "name": "stdout",
     "output_type": "stream",
     "text": [
      "My first command loop \n",
      "> hi there\n",
      "you typed hi there\n",
      "> quit\n",
      "you typed quit\n"
     ]
    }
   ],
   "source": [
    "command_loop()"
   ]
  },
  {
   "cell_type": "markdown",
   "metadata": {},
   "source": [
    "## Exceptions\n",
    "Note the exception handling!\n",
    "\n",
    "Hinky stuff can be folded into a try-except block thus:\n",
    "\n",
    "`try:` \n",
    "    do all kinds of stuff <br>\n",
    "    some of which might raise an `exception`<br> \n",
    "        such as file reading (which may fail because file is not where one supposed it would be, etc)<br> \n",
    "        input output (which may fail because illegal characters show up, etc)<br> \n",
    "        algebraic errors (dividing by zero or requesting a logarithm of zero etc)<br> \n",
    "        ... and many others, including such that may be defined to suit your specific needs<br> \n",
    "        \n",
    "`except ERRORTYPE1:`<br>\n",
    "    do something to handle ERRORTYPE1\n",
    "\n",
    "`except:`<br>\n",
    "    do something to handle general errors such as throw hands in air and print \"An error occurred\""
   ]
  },
  {
   "cell_type": "markdown",
   "metadata": {},
   "source": [
    "## Errors you will make often\n",
    "    - division by zero\n",
    "    - cycling from one instead of zero\n",
    "    - reading beyond the end of a structure\n",
    "    - other edge cases\n",
    "    - if (x=2) instead of if (x==2)\n",
    "    - mixing types (hi python!)\n",
    "    - mixing data structures\n",
    "    - unexpected characters\n",
    "    - returning responses when a fail would be better\n",
    "    - regular expressions\n",
    "    - mixing instances and classes\n",
    "    - mixing global and local variables\n",
    "\n",
    "    "
   ]
  },
  {
   "cell_type": "markdown",
   "metadata": {},
   "source": [
    "\n",
    "### Exercise 1\n",
    "All kinds of things can be entered at the prompt! Some of those things should be fixed. (Some might even be malicious). Clean instring from interpunction or other non text characters at end if such are found."
   ]
  },
  {
   "cell_type": "markdown",
   "metadata": {},
   "source": [
    "\n",
    "### Exercise 2\n",
    "A blinking prompt can be unhelpful! Provide a help message when user types help or \"?\""
   ]
  },
  {
   "cell_type": "markdown",
   "metadata": {},
   "source": [
    "## Variable scoping\n",
    "The distinction between local and global"
   ]
  },
  {
   "cell_type": "code",
   "execution_count": 4,
   "metadata": {},
   "outputs": [
    {
     "name": "stdout",
     "output_type": "stream",
     "text": [
      "x is  3.14159265\n",
      "x is now:  2.718281828\n",
      "back in the global scope x is  3.14159265\n",
      "x is now:  1.41421\n",
      "back in the global scope x is  1.41421\n"
     ]
    }
   ],
   "source": [
    "x = 3.14159265\n",
    "def variable_setting_experiment():\n",
    "    x = 2.718281828 #local x\n",
    "    print (\"x is now: \",x)\n",
    "    \n",
    "def global_variable_setting_experiment():\n",
    "    global x \n",
    "    x = 1.41421 #not the local x\n",
    "    print (\"x is now: \",x)\n",
    "\n",
    "\n",
    "print (\"x is \",x)\n",
    "variable_setting_experiment()\n",
    "print (\"back in the global scope x is \",x)\n",
    "global_variable_setting_experiment()\n",
    "print (\"back in the global scope x is \",x)\n"
   ]
  },
  {
   "cell_type": "markdown",
   "metadata": {},
   "source": [
    "## Classes\n",
    "A neat way to package variables and methods out of sight from the rest of the code is using *classes*. \n",
    "\n",
    "#### Challenges \n",
    "- Instances vs Classes\n",
    "- Instance methods vs Class methods vs Static methods\n",
    "- Inheritance\n",
    "- Visibility of methods (or functions) and fields (or variables)"
   ]
  },
  {
   "cell_type": "code",
   "execution_count": 6,
   "metadata": {},
   "outputs": [],
   "source": [
    "bottles = 100\n",
    "\n",
    "class package_store:\n",
    "    def __init__(self,w,b,c,p):\n",
    "        self.bubblewrap=w\n",
    "        self.packages=p\n",
    "        self.bottles=b\n",
    "        self.cash=c\n",
    "    def wrap(self):\n",
    "        self.bottles=self.bottles-1\n",
    "        self.bubblewrap=self.bubblewrap-1\n",
    "        self.packages=self.packages+1\n",
    "    def ring_one_up(self):\n",
    "        self.packages=self.packages-1\n",
    "        self.cash=self.cash+1\n",
    "    def audit(self):\n",
    "        print(\"inventory\",\" \",self.bubblewrap,\" \",self.bottles,\" \",self.packages,\" \",self.cash)\n",
    "    @staticmethod\n",
    "    def wholesale_deal(price): #date\n",
    "        return price*0.9\n",
    "    \n"
   ]
  },
  {
   "cell_type": "code",
   "execution_count": 7,
   "metadata": {},
   "outputs": [
    {
     "name": "stdout",
     "output_type": "stream",
     "text": [
      "inventory   100   10   0   0\n"
     ]
    }
   ],
   "source": [
    "mystore=package_store(100,10,0,0)\n",
    "mystore.audit()"
   ]
  },
  {
   "cell_type": "code",
   "execution_count": 8,
   "metadata": {},
   "outputs": [
    {
     "name": "stdout",
     "output_type": "stream",
     "text": [
      "100\n",
      "10\n"
     ]
    }
   ],
   "source": [
    "print(bottles)\n",
    "print(mystore.bottles)\n"
   ]
  },
  {
   "cell_type": "code",
   "execution_count": 9,
   "metadata": {},
   "outputs": [
    {
     "name": "stdout",
     "output_type": "stream",
     "text": [
      "inventory   99   9   0   1\n"
     ]
    }
   ],
   "source": [
    "mystore.wrap()\n",
    "mystore.ring_one_up()\n",
    "mystore.audit()\n",
    "\n"
   ]
  },
  {
   "cell_type": "code",
   "execution_count": 10,
   "metadata": {},
   "outputs": [
    {
     "data": {
      "text/plain": [
       "90.0"
      ]
     },
     "execution_count": 10,
     "metadata": {},
     "output_type": "execute_result"
    }
   ],
   "source": [
    "package_store.wholesale_deal(100)"
   ]
  },
  {
   "cell_type": "markdown",
   "metadata": {},
   "source": [
    "## Methodology\n",
    "- jump right in\n",
    "- object modelling\n",
    "- sdp vs use case analysis\n",
    "- code for someone else!\n",
    "    - req-test-code-eval-accept\n",
    "    - notions to keep in mind:\n",
    "        - stakeholder\n",
    "        - definition of done\n",
    "- use others' code vs diy\n",
    "- workflow tools\n"
   ]
  },
  {
   "cell_type": "markdown",
   "metadata": {},
   "source": [
    "## Therapist\n",
    "This very first therapist can do two things. "
   ]
  },
  {
   "cell_type": "code",
   "execution_count": 11,
   "metadata": {},
   "outputs": [],
   "source": [
    "def respond(cue):\n",
    "    return \"harrumph\"\n",
    "def byebye(cue):\n",
    "    return \"well now\"\n"
   ]
  },
  {
   "cell_type": "markdown",
   "metadata": {},
   "source": [
    "Those *functions* could be well packaged into *methods* of an *object* or *class* which is what we talked about only last time. "
   ]
  },
  {
   "cell_type": "code",
   "execution_count": 12,
   "metadata": {},
   "outputs": [
    {
     "data": {
      "text/plain": [
       "'harrumph'"
      ]
     },
     "execution_count": 12,
     "metadata": {},
     "output_type": "execute_result"
    }
   ],
   "source": [
    "respond(\"hello there\")"
   ]
  },
  {
   "cell_type": "code",
   "execution_count": null,
   "metadata": {},
   "outputs": [],
   "source": [
    "class therapist:\n",
    "    def respond(cue):\n",
    "        return \"harrumph\"\n",
    "    def byebye(cue):\n",
    "        return \"well now\""
   ]
  },
  {
   "cell_type": "markdown",
   "metadata": {},
   "source": [
    "### Exercise 9\n",
    "Turn the therapist into a class."
   ]
  },
  {
   "cell_type": "markdown",
   "metadata": {},
   "source": [
    "## Eliza loop\n"
   ]
  },
  {
   "cell_type": "code",
   "execution_count": 13,
   "metadata": {},
   "outputs": [],
   "source": [
    "def command_loop():\n",
    "    print('Eliza session:',flush=True)\n",
    "    print('Hello I am Eliza. How are you feeling today?\\n',flush=True)\n",
    "    instring = ''\n",
    "    while instring != 'quit':\n",
    "        try:\n",
    "            instring = input('> ')\n",
    "        except EOFError: \n",
    "            instring = 'quit'  \n",
    "        print(respond(instring))\n",
    "    print(byebye(instring))"
   ]
  },
  {
   "cell_type": "code",
   "execution_count": 14,
   "metadata": {},
   "outputs": [
    {
     "name": "stdout",
     "output_type": "stream",
     "text": [
      "Eliza session:\n",
      "Hello I am Eliza. How are you feeling today?\n",
      "\n",
      "> hello\n",
      "harrumph\n",
      "> quit\n",
      "harrumph\n",
      "well now\n"
     ]
    }
   ],
   "source": [
    "command_loop()"
   ]
  },
  {
   "cell_type": "markdown",
   "metadata": {},
   "source": [
    "### Exercise 3\n",
    "Fix Eliza to get rid of the harrumph if the instring is quit"
   ]
  },
  {
   "cell_type": "markdown",
   "metadata": {},
   "source": [
    "## Random\n",
    "\n",
    "We will now need to use a randomiser. There is a built in one. \n"
   ]
  },
  {
   "cell_type": "code",
   "execution_count": 15,
   "metadata": {},
   "outputs": [],
   "source": [
    "import random"
   ]
  },
  {
   "cell_type": "code",
   "execution_count": 16,
   "metadata": {},
   "outputs": [
    {
     "data": {
      "text/plain": [
       "0.9080935346675553"
      ]
     },
     "execution_count": 16,
     "metadata": {},
     "output_type": "execute_result"
    }
   ],
   "source": [
    "random.random()"
   ]
  },
  {
   "cell_type": "code",
   "execution_count": 18,
   "metadata": {},
   "outputs": [
    {
     "data": {
      "text/plain": [
       "'poke'"
      ]
     },
     "execution_count": 18,
     "metadata": {},
     "output_type": "execute_result"
    }
   ],
   "source": [
    "random.choice([\"sushi\",\"poke\",\"barszcz\",\"pierogi\",\"musubi\",\"herring\"])"
   ]
  },
  {
   "cell_type": "code",
   "execution_count": 19,
   "metadata": {},
   "outputs": [],
   "source": [
    "def stall():\n",
    "    ahems = [\"ahem\", \"harrumph\", \"er\", \"hmm\", \"you don't say\"]\n",
    "    this_stall = random.choice(ahems)\n",
    "    return this_stall\n",
    "    "
   ]
  },
  {
   "cell_type": "code",
   "execution_count": 21,
   "metadata": {},
   "outputs": [
    {
     "name": "stdout",
     "output_type": "stream",
     "text": [
      "hmm\n"
     ]
    }
   ],
   "source": [
    "print(stall())\n"
   ]
  },
  {
   "cell_type": "markdown",
   "metadata": {},
   "source": [
    "### Exercise 4\n",
    "run stall() 10, 100, 1000 times and tabulate results. Verify that random is random. "
   ]
  },
  {
   "cell_type": "code",
   "execution_count": 22,
   "metadata": {},
   "outputs": [],
   "source": [
    "def respond(cue):\n",
    "    if (random.random() > 0.5):\n",
    "        return stall()\n",
    "    else:\n",
    "        return \"so you mean to tell me \"+cue\n",
    "def byebye(cue):\n",
    "    return \"well then\"\n",
    "\n"
   ]
  },
  {
   "cell_type": "code",
   "execution_count": 28,
   "metadata": {},
   "outputs": [
    {
     "name": "stdout",
     "output_type": "stream",
     "text": [
      "Eliza session:\n",
      "Hello I am Eliza. How are you feeling today?\n",
      "\n",
      "> i feel good\n",
      "so you mean to tell me i feel good\n",
      "> quit\n",
      "so you mean to tell me quit\n",
      "well then\n"
     ]
    }
   ],
   "source": [
    "command_loop()\n"
   ]
  },
  {
   "cell_type": "markdown",
   "metadata": {},
   "source": [
    "## Some String functions\n",
    "We will now need a little bit of string processing. Splitting strings into smaller bits and joining smaller bits into longer strings is done using the string functions split() and join()."
   ]
  },
  {
   "cell_type": "code",
   "execution_count": 27,
   "metadata": {},
   "outputs": [
    {
     "name": "stdout",
     "output_type": "stream",
     "text": [
      "hullo there this is camelcasefest\n",
      "['hullo there thi', ' i', ' camelca', 'efe', 't']\n"
     ]
    },
    {
     "data": {
      "text/plain": [
       "'hullo there thiz iz camelcazefezt'"
      ]
     },
     "execution_count": 27,
     "metadata": {},
     "output_type": "execute_result"
    }
   ],
   "source": [
    "teststring = \"Hullo There This is CamelCaseFest\"\n",
    "testlc = teststring.lower()\n",
    "print(testlc)\n",
    "testlc.split()\n",
    "bits = testlc.split('s')\n",
    "print(bits)\n",
    "'z'.join(['a','b','c'])\n",
    "'z'.join(bits)"
   ]
  },
  {
   "cell_type": "markdown",
   "metadata": {},
   "source": [
    "### Exercise 5\n",
    "\n",
    "Test string split and string join until you understand what they do"
   ]
  },
  {
   "cell_type": "markdown",
   "metadata": {},
   "source": [
    "## Adding a bit of linguistic competence to Eliza"
   ]
  },
  {
   "cell_type": "code",
   "execution_count": 29,
   "metadata": {},
   "outputs": [],
   "source": [
    "linguistic_knowledge = {\n",
    "  \"am\"   : \"are\",\n",
    "  \"was\"  : \"were\",\n",
    "  \"i\"    : \"you\",\n",
    "  \"my\"  : \"your\",\n",
    "  \"are\"  : \"am\",\n",
    "  \"me\"  : \"you\"\n",
    "}"
   ]
  },
  {
   "cell_type": "code",
   "execution_count": 30,
   "metadata": {},
   "outputs": [
    {
     "data": {
      "text/plain": [
       "'you feel good'"
      ]
     },
     "execution_count": 30,
     "metadata": {},
     "output_type": "execute_result"
    }
   ],
   "source": [
    "def translate(str,dict):\n",
    "    strlc = str.lower() # lowercase the string\n",
    "    words = strlc.split() # make list out of string\n",
    "#    words = str.lower().split() # neater, but less readable (i'd do this anyway tho)\n",
    "    keys = dict.keys();          # pick out the keys from the dict structure\n",
    "    for i in range(0,len(words)):\n",
    "      if words[i] in keys:       # is the i-th word in the dictionary?\n",
    "        words[i] = dict[words[i]]    # if so, pop in the translation instead of what was there before\n",
    "    return ' '.join(words)       # glue everything nicely together into a string again\n",
    "\n",
    "\n",
    "translate(\"i feel good\", linguistic_knowledge)"
   ]
  },
  {
   "cell_type": "code",
   "execution_count": 31,
   "metadata": {},
   "outputs": [],
   "source": [
    "def respond(cue):\n",
    "    if (random.random() > 0.5):\n",
    "        return stall()\n",
    "    else:\n",
    "        return \"so you mean to tell me \"+translate(cue,linguistic_knowledge)"
   ]
  },
  {
   "cell_type": "code",
   "execution_count": 32,
   "metadata": {},
   "outputs": [
    {
     "name": "stdout",
     "output_type": "stream",
     "text": [
      "Eliza session:\n",
      "Hello I am Eliza. How are you feeling today?\n",
      "\n",
      "> i feel good\n",
      "so you mean to tell me you feel good\n",
      "> yes, everything is fine, i am giving a class\n",
      "ahem\n",
      "> huh\n",
      "so you mean to tell me huh\n",
      "> quit\n",
      "so you mean to tell me quit\n",
      "well then\n"
     ]
    }
   ],
   "source": [
    "command_loop()\n"
   ]
  },
  {
   "cell_type": "markdown",
   "metadata": {},
   "source": [
    "### Exercise 6: \n",
    "Extend the linguist knowledge base"
   ]
  },
  {
   "cell_type": "markdown",
   "metadata": {},
   "source": [
    "## Regular Expressions\n",
    "\n",
    "Now for something really interesting and central! *Regular expressions* are very powerful and useful for finding patterns in strings.\n"
   ]
  },
  {
   "cell_type": "markdown",
   "metadata": {},
   "source": [
    "We will now formulate some interesting patterns.\n",
    "Each pattern needs to be *compiled*.\n",
    "Once compiled, it can be used to match with strings of potential interest.\n",
    "If a pattern matches, it will return some useful information."
   ]
  },
  {
   "cell_type": "code",
   "execution_count": 34,
   "metadata": {},
   "outputs": [],
   "source": [
    "\n",
    "import re"
   ]
  },
  {
   "cell_type": "code",
   "execution_count": 43,
   "metadata": {},
   "outputs": [
    {
     "name": "stdout",
     "output_type": "stream",
     "text": [
      "i am very \n",
      "am very\n",
      "am\n"
     ]
    }
   ],
   "source": [
    "verysimple = re.compile(r'.very.')\n",
    "\n",
    "asdf = re.compile(r'(.*)very(.*)')\n",
    "\n",
    "ghj = re.compile(r'^(\\w+)\\s+(\\w+)')\n",
    "jkl = re.compile(r'^(\\w+\\s+(\\w+))')\n",
    "\n",
    "uiop = re.compile(r'.*\\s+((\\w+)\\s+\\w+)\\s+')\n",
    "qwerty = re.compile(r'^(.*)\\svery\\s(.*)$')\n",
    "zxcv = re.compile(r'.*\\s(\\w+)\\s+very\\s+(\\w+)')\n",
    "vbnm = re.compile(r'.*(\\w+?)\\s+very\\s+(\\w+?)')\n",
    "hjkl = re.compile(r'^.*\\s(\\w+\\s+(\\w+))')\n",
    "\n",
    "\n",
    "\n",
    "matchresult = uiop.match(\"i am very thirsty\")\n",
    "if matchresult:\n",
    "    print(matchresult.group(0))\n",
    "    print(matchresult.group(1))\n",
    "    print(matchresult.group(2))\n"
   ]
  },
  {
   "cell_type": "markdown",
   "metadata": {},
   "source": [
    "for each key in the pattern list, compile it and put it somewhere we can find it. "
   ]
  },
  {
   "cell_type": "code",
   "execution_count": 44,
   "metadata": {},
   "outputs": [],
   "source": [
    "discourse_component = [\n",
    "  [r'I need (.*)',\n",
    "  [  \"Why do you need %1?\",\n",
    "    \"Would it really help you to get %1?\",\n",
    "    \"Are you sure you need %1?\"]],\n",
    "  [r'(.*) think (.*)',\n",
    "  [  \"Do you doubt that %2?\",\n",
    "        \"Do you really think that %2?\",\n",
    "        \"But you're not sure that %2?\"]],\n",
    "\n",
    "  [r'(.*) friend (.*)',\n",
    "  [  \"Tell me more about your friends.\",\n",
    "    \"When you think of a friend, what comes to mind?\",\n",
    "    \"Why don't you tell me about a childhood friend?\"]]\n",
    "]"
   ]
  },
  {
   "cell_type": "code",
   "execution_count": 45,
   "metadata": {},
   "outputs": [
    {
     "name": "stdout",
     "output_type": "stream",
     "text": [
      "re.compile('(.*) friend (.*)')\n",
      "['Tell me more about your friends.', 'When you think of a friend, what comes to mind?', \"Why don't you tell me about a childhood friend?\"]\n",
      "re.compile('I need (.*)')\n",
      "['Why do you need %1?', 'Would it really help you to get %1?', 'Are you sure you need %1?']\n",
      "re.compile('(.*) think (.*)')\n",
      "['Do you doubt that %2?', 'Do you really think that %2?', \"But you're not sure that %2?\"]\n"
     ]
    }
   ],
   "source": [
    "compiled_discourse_module = {}\n",
    "\n",
    "for stimulusresponse in discourse_component:\n",
    "    m = re.compile(stimulusresponse[0])\n",
    "    compiled_discourse_module[m] = stimulusresponse[1]\n",
    "    \n",
    "for pattern in compiled_discourse_module:   #iterates over keys!\n",
    "    print(pattern)\n",
    "    print(compiled_discourse_module[pattern])"
   ]
  },
  {
   "cell_type": "code",
   "execution_count": 46,
   "metadata": {},
   "outputs": [
    {
     "name": "stdout",
     "output_type": "stream",
     "text": [
      "re.compile('(.*) friend (.*)')   None\n",
      "re.compile('I need (.*)')   <_sre.SRE_Match object; span=(0, 10), match='I need tea'>\n",
      "re.compile('(.*) think (.*)')   None\n"
     ]
    }
   ],
   "source": [
    "inline = \"I need tea\"\n",
    "for pattern in compiled_discourse_module:    \n",
    "    match = pattern.match(inline)\n",
    "    print (pattern,\" \", match)\n"
   ]
  },
  {
   "cell_type": "code",
   "execution_count": 48,
   "metadata": {},
   "outputs": [
    {
     "name": "stdout",
     "output_type": "stream",
     "text": [
      "Do you really think that %2?\n",
      "i need tea to be happy\n"
     ]
    }
   ],
   "source": [
    "inline = \"i think i need tea to be happy\"\n",
    "\n",
    "for pattern in compiled_discourse_module:    \n",
    "    match = pattern.match(inline)\n",
    "    if match:\n",
    "        print(random.choice(compiled_discourse_module[pattern]))\n",
    "        print(match.group(2))"
   ]
  },
  {
   "cell_type": "code",
   "execution_count": 50,
   "metadata": {},
   "outputs": [
    {
     "name": "stdout",
     "output_type": "stream",
     "text": [
      "eh\n",
      "eh\n",
      "But you're not sure that i need tea to be happy?\n"
     ]
    }
   ],
   "source": [
    "inline = \"i think i need tea to be happy\"\n",
    "\n",
    "for pattern in compiled_discourse_module:    \n",
    "    match = pattern.match(inline)\n",
    "    response = \"eh\"\n",
    "#    print(match)\n",
    "    if match:\n",
    "        response = random.choice(compiled_discourse_module[pattern])\n",
    "        placeholder = response.find('%')\n",
    "        while placeholder > -1:\n",
    "            slot = int(response[placeholder+1:placeholder+2])  #weak code here, this could break easily!\n",
    "#            print(slot)\n",
    "#            print(response[:placeholder])\n",
    "#            print(match.group(slot))\n",
    "#            print(response[placeholder+2:])\n",
    "            response = response[:placeholder] + match.group(slot) + response[placeholder+2:]\n",
    "            placeholder = response.find('%')\n",
    "    print(response)"
   ]
  },
  {
   "cell_type": "code",
   "execution_count": 51,
   "metadata": {},
   "outputs": [
    {
     "name": "stdout",
     "output_type": "stream",
     "text": [
      "But you're not sure that i need tea to be happy?\n",
      "But you're not sure that i need tea to be happy?\n",
      "Do you really think that you need tea to be happy?\n"
     ]
    }
   ],
   "source": [
    "inline = \"i think i need tea to be happy\"\n",
    "\n",
    "for pattern in compiled_discourse_module:    \n",
    "    match = pattern.match(inline)\n",
    "    if match:\n",
    "        response = random.choice(compiled_discourse_module[pattern])\n",
    "        placeholder = response.find('%')\n",
    "        while placeholder > -1:\n",
    "            slot = int(response[placeholder+1:placeholder+2])\n",
    "            response = response[:placeholder] + translate(match.group(slot),linguistic_knowledge) + response[placeholder+2:]\n",
    "            placeholder = response.find('%')\n",
    "    print(response)            \n"
   ]
  },
  {
   "cell_type": "code",
   "execution_count": 52,
   "metadata": {},
   "outputs": [],
   "source": [
    "def respond(cue):\n",
    "    response = stall()\n",
    "    for pattern in compiled_discourse_module:    \n",
    "        match = pattern.match(cue)\n",
    "        if match:\n",
    "            response = random.choice(compiled_discourse_module[pattern])\n",
    "            placeholder = response.find('%')\n",
    "            while placeholder > -1:\n",
    "                slot = int(response[placeholder+1:placeholder+2])\n",
    "                response = response[:placeholder] + translate(match.group(slot),linguistic_knowledge) + response[placeholder+2:]\n",
    "                placeholder = response.find('%')\n",
    "    return response\n"
   ]
  },
  {
   "cell_type": "code",
   "execution_count": 53,
   "metadata": {},
   "outputs": [
    {
     "name": "stdout",
     "output_type": "stream",
     "text": [
      "Eliza session:\n",
      "Hello I am Eliza. How are you feeling today?\n",
      "\n",
      "> I need more tea\n",
      "Would it really help you to get more tea?\n",
      "> yes\n",
      "er\n",
      "> quit\n",
      "er\n",
      "well then\n"
     ]
    }
   ],
   "source": [
    "command_loop()"
   ]
  },
  {
   "cell_type": "markdown",
   "metadata": {},
   "source": [
    "### Exercise 7\n",
    "Clean up the code so that you have only what you need from above.\n",
    "\n",
    "### Exercise 8\n",
    "Improve the therapist for greater coverage and better clinical effect.\n",
    "\n"
   ]
  }
 ],
 "metadata": {
  "kernelspec": {
   "display_name": "Python 3",
   "language": "python",
   "name": "python3"
  },
  "language_info": {
   "codemirror_mode": {
    "name": "ipython",
    "version": 3
   },
   "file_extension": ".py",
   "mimetype": "text/x-python",
   "name": "python",
   "nbconvert_exporter": "python",
   "pygments_lexer": "ipython3",
   "version": "3.5.2"
  }
 },
 "nbformat": 4,
 "nbformat_minor": 2
}
