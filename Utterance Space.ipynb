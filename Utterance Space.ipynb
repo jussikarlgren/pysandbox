{
 "cells": [
  {
   "cell_type": "markdown",
   "metadata": {},
   "source": [
    "- Read target text file\n",
    "- create dict of words seen\n",
    "- read wordspace file\n",
    "    - parse line\n",
    "    - parse sparse vector\n",
    "    - retain only if token is in dict\n",
    "- randomise vec for other words\n",
    "- build cky parser or similar for utterances\n",
    "- go thru utterances\n"
   ]
  },
  {
   "cell_type": "code",
   "execution_count": 1,
   "metadata": {},
   "outputs": [],
   "source": [
    "import re\n",
    "import random\n",
    "import math\n",
    "import time"
   ]
  },
  {
   "cell_type": "code",
   "execution_count": 2,
   "metadata": {},
   "outputs": [],
   "source": [
    "wordspacefile=\"/home/jussi/Desktop/data/wordspaces/gavagai-news-22.wordspace\"\n",
    "lexiconfile=\"/home/jussi/Desktop/data/EventStatus/words.txt\"\n",
    "textfile=\"/home/jussi/Desktop/data/EventStatus/chunks.txt\""
   ]
  },
  {
   "cell_type": "code",
   "execution_count": 3,
   "metadata": {},
   "outputs": [],
   "source": [
    "def dolexicon():\n",
    "    lexicon={}\n",
    "    lexlinepattern=re.compile(r'^(\\d+)\\s+([\\-\\w]+)\\s+([\\.\\d]+)$')\n",
    "    lexfile=open(lexiconfile,'r')\n",
    "    lexline=lexfile.readline().rstrip()\n",
    "    while lexline:\n",
    "        m=lexlinepattern.match(lexline)\n",
    "        if m:\n",
    "            word=m.groups()[1]\n",
    "            idf=m.groups()[2]\n",
    "            lexicon[word]=idf\n",
    "#        else:\n",
    "#            print(\"no match for \",lexline)\n",
    "        lexline=lexfile.readline().rstrip()            \n",
    "    lexfile.close()\n",
    "    return lexicon"
   ]
  },
  {
   "cell_type": "code",
   "execution_count": 54,
   "metadata": {},
   "outputs": [],
   "source": [
    "def sparseadd(onevec,othvec,weight):\n",
    "    result={}\n",
    "    if onevec:\n",
    "        for l in onevec:\n",
    "            result[l] = onevec[l]\n",
    "    for k in othvec:\n",
    "        if k in result:\n",
    "            result[k] = result[k]+othvec[k]*float(weight)\n",
    "        else:\n",
    "            result[k] = othvec[k]*float(weight)\n",
    "    return result\n",
    "\n",
    "def sparsecosine(xvec,yvec):\n",
    "    x2 = 0;\n",
    "    y2 = 0;\n",
    "    xy = 0;\n",
    "    try:\n",
    "        for i in range(len(xvec)):\n",
    "            if i in xvec:\n",
    "                x2 += xvec[i]*xvec[i]\n",
    "            if i in yvec:\n",
    "                y2 += yvec[i]*yvec[i]\n",
    "                if i in xvec:\n",
    "                    xy += xvec[i]*yvec[i]\n",
    "    except:\n",
    "        print(\"error at position \",i)\n",
    "    if (x2+y2 == 0):\n",
    "        cos = 0\n",
    "    else:\n",
    "        cos = xy/(math.sqrt(x2)+math.sqrt(y2))\n",
    "    return cos\n",
    "\n",
    "def lengthweightedsparsecosine(xvec,xl,yvec,yl):\n",
    "    x2 = 0;\n",
    "    y2 = 0;\n",
    "    xy = 0;\n",
    "    try:\n",
    "        for i in range(len(xvec)):\n",
    "            if i in xvec:\n",
    "                x2 += xvec[i]*xvec[i]/(xl*xl)\n",
    "            if i in yvec:\n",
    "                y2 += yvec[i]*yvec[i]/(yl*yl)\n",
    "                if i in xvec:\n",
    "                    xy += xvec[i]*yvec[i]/(xl*yl)\n",
    "    except:\n",
    "        print(\"error at position \",i)\n",
    "    if (x2+y2 == 0):\n",
    "        cos = 0\n",
    "    else:\n",
    "        cos = xy/(math.sqrt(x2)+math.sqrt(y2))\n",
    "    return cos\n",
    "    \n",
    "def newrandomvector(n,k):\n",
    "    vec = {}\n",
    "    if (k > 0 and k % 2 == 0):\n",
    "        nonzeros = random.sample(list(range(n)),k)\n",
    "        negatives = random.sample(nonzeros,int(k/2))\n",
    "        for i in nonzeros:\n",
    "            vec[i] = 1;\n",
    "        for i in negatives:\n",
    "            vec[i] = -1;\n",
    "    return vec"
   ]
  },
  {
   "cell_type": "code",
   "execution_count": 40,
   "metadata": {},
   "outputs": [],
   "source": [
    "def dowordspacefile(vocab):\n",
    "    linepattern = re.compile(r'^\\(\\\"([\\-\\w]+)\\\"\\s+#S2000([\\d\\,\\-\\.\\-\\+;e]+)*:\\s+#S2000([\\d\\-\\+;\\.e\\,]+)*:\\s+#S2000([\\.\\d\\-\\+;e\\,]+)*:\\s+(\\d+)\\)')\n",
    "    vecpattern = re.compile(r';?(\\d+)([\\+\\-][\\,\\.\\d]+(e-\\d\\d)?)')\n",
    "    alicefile=open(wordspacefile,'r')\n",
    "    global vectorspace\n",
    "    vectorspace={}\n",
    "    global globalfrequency\n",
    "    globalfrequency={}\n",
    "    aliceline = alicefile.readline()\n",
    "    a=1\n",
    "    b=0\n",
    "    w=0\n",
    "    sparsevec={}\n",
    "    while aliceline:\n",
    "        a = a+1\n",
    "        m=linepattern.match(aliceline)\n",
    "        if m:\n",
    "            token=m.groups()[0]\n",
    "            ind=m.groups()[1]\n",
    "            doc=m.groups()[2]\n",
    "            ctx=m.groups()[3]\n",
    "            freq=int(m.groups()[4])\n",
    "            try:\n",
    "                if (token in vocab):\n",
    "                    cells = re.findall(vecpattern,ctx)\n",
    "                    for c in cells:\n",
    "                        val = c[1]\n",
    "                        kop=val.translate(str.maketrans(\",\",\".\",\"+\"))\n",
    "                        try:\n",
    "                            sparsevec[c[0]] = float(kop)\n",
    "                        except:\n",
    "                            print(\"weird number: \",kop)\n",
    "                    vectorspace[token] = sparsevec\n",
    "                    globalfrequency[token] = freq\n",
    "                    sparsevec={}\n",
    "                    w=w+1\n",
    "            except:\n",
    "                print(\"fail: \",token,\" \",a)\n",
    "        else:\n",
    "            b=b+1\n",
    "#            print(\"no match for \",aliceline[0:10])\n",
    "        aliceline = alicefile.readline()\n",
    "    print(a,\" lines seen; \",w,\" items added \",b,\" items disregarded\")\n",
    "    alicefile.close()\n",
    "\n",
    "\n"
   ]
  },
  {
   "cell_type": "code",
   "execution_count": 50,
   "metadata": {},
   "outputs": [],
   "source": [
    "def dotextfile():\n",
    "    cleanuppattern=re.compile(r'[\\.\\'\\!\\*\\?\\+,;\\:\\-\\/]+')\n",
    "    utterances={}\n",
    "    samplefile=open(textfile,'r')\n",
    "    utterance=samplefile.readline().rstrip()\n",
    "    while utterance:\n",
    "        print(\".\",end=\"\")\n",
    "        uttrep=[]\n",
    "        cleanedutterance=re.sub(cleanuppattern,\"\",utterance)\n",
    "        words=cleanedutterance.lower().split()\n",
    "        for word in words: \n",
    "            if word not in vectorspace:\n",
    "                vec=newrandomvector(2000,10)\n",
    "                weight=1\n",
    "            else:\n",
    "                vec=vectorspace[word]\n",
    "                weight=float(lexicon[word])/float(globalfrequency[word])\n",
    "            uttrep=sparseadd(uttrep,vec,weight)\n",
    "        utterances[utterance]=uttrep\n",
    "        utterance=samplefile.readline().rstrip()\n",
    "    samplefile.close()\n",
    "    return utterances"
   ]
  },
  {
   "cell_type": "code",
   "execution_count": 4,
   "metadata": {},
   "outputs": [
    {
     "name": "stdout",
     "output_type": "stream",
     "text": [
      "18699\n"
     ]
    }
   ],
   "source": [
    "lexicon = dolexicon()\n",
    "print(len(lexicon))"
   ]
  },
  {
   "cell_type": "code",
   "execution_count": 47,
   "metadata": {},
   "outputs": [
    {
     "name": "stdout",
     "output_type": "stream",
     "text": [
      "Tue Oct 24 20:16:59 2017\n",
      "fail:  alito   276457\n",
      "fail:  anti-u   299883\n",
      "fail:  kph   308003\n",
      "fail:  schenley   521897\n",
      "531166  lines seen;  17081  items added  28811  items disregarded\n",
      "17081\n",
      "Tue Oct 24 20:18:00 2017\n"
     ]
    }
   ],
   "source": [
    "print(time.ctime())\n",
    "dowordspacefile(lexicon)\n",
    "print(len(vectorspace))\n",
    "print(time.ctime())"
   ]
  },
  {
   "cell_type": "code",
   "execution_count": 46,
   "metadata": {},
   "outputs": [
    {
     "name": "stdout",
     "output_type": "stream",
     "text": [
      "72.53532468810889\n",
      "Tue Oct 24 20:16:25 2017\n"
     ]
    }
   ],
   "source": [
    "\n",
    "x=12.8507\n",
    "y=5.64446486869267\n",
    "print(x*y)\n"
   ]
  },
  {
   "cell_type": "code",
   "execution_count": 51,
   "metadata": {},
   "outputs": [
    {
     "name": "stdout",
     "output_type": "stream",
     "text": [
      "18699\n",
      "17081\n",
      "Tue Oct 24 20:24:59 2017\n",
      ".................................................................................................................................................................................................................................................................................................................................................................................................................................................................................................................................................................................................................................................................................................................................................................................................................................................................................................................................................................................................................................................................................................................................................................................................................................................................................................................................................................................................................................................................................................................................................................................................................................................................................................................................................................................................................................................................................................................................................................................................................................................................................................................................................................................................................................................................................................................................................................................................................................................................................................................................................................................................................................................................................................................................................................................................................................................................................................................................................................................................................................................................................................................................................................................................................................................................................................................................................................................................................................................................................................................................................................................................................................................................................................................................................................................................................................................................................................................................................................................................................................................................................................................................................................................................................................................................................................................................................................................................................................................................................................................................................................................................................................................................................................................................................................................................................................................................................................................................................................................................................................................................................................................................................................................................................................................................................................Tue Oct 24 20:28:03 2017\n",
      "5081\n"
     ]
    }
   ],
   "source": [
    "print(len(lexicon))\n",
    "print(len(vectorspace))\n",
    "print(time.ctime())\n",
    "utterances=dotextfile()\n",
    "print(time.ctime())\n",
    "print(len(utterances))\n"
   ]
  },
  {
   "cell_type": "code",
   "execution_count": 55,
   "metadata": {},
   "outputs": [
    {
     "name": "stdout",
     "output_type": "stream",
     "text": [
      "0\n",
      "1252\n",
      "PA\tThe main Palestinian factions have also rejected Geneva. Some 3,000 protestors burned effigies of Abed Rabbo and Beilin as well as a Swiss flag at a  rally  in the West Bank town of Nablus on Friday.\n",
      "1015   70.6101121353373\n",
      "   0.0019641476150114158    119 NO\tSome fans gathered around a shut-down bar behind the Place du Capitole, while  riot  police watched in tense silence.\n",
      "   0.0015034440742381517    2427 NA\tThe woman also shouted ``Falun Gong'' and raised a yellow scarf before uniformed police snatched it away and  marched  her to a car.\n",
      "   0.001460218767504648    4639 NA\tLike many of the mutinous soldiers engaged in conflict with the army in Kanyabayonga, Rwibashira and Amisi are both drawn from the ranks of the former rebel Congolese  Rally  for Democracy (RCD).\n",
      "1\n",
      "2070\n",
      "NA\tSeven civilians, including a child, were among 55 people killed in a NATO air  strike  in Afghanistan that targeted fuel tankers hijacked by the Taliban, a local official said Sunday.\n",
      "1021   1.620463450428657\n",
      "   0.0014781053403370267    2901 NA\tBut Chechen pride and age-old enmity with Russia have  rallied  many people to Dudayev's side, including some volunteers from other Caucasus regions.\n",
      "   0.0014244493964722428    1232 OG\tVietnamese Casino Workers  Strike\n",
      "   0.0013991025655528551    2477 PA\tOn Saturday, police beat demonstrators and used a water cannon to disperse a  rally  of more than 3,000 people. Twenty-nine Malaysians were arrested for gathering illegally, police said.\n",
      "2\n",
      "1409\n",
      "PA\t\"Endemic unemployment among young people from the Maghreb (northwestern Africa) is the cause of the  protests  that broke out in the past few days in Morocco, Algeria and Tunisia,\" said Aziz, an activist from the Moroccan city of Sidi Ifni who asked not to be identified by his full name.\n",
      "1050   18.983264042072275\n",
      "   0.0015528935031604207    2205 OG\tProtests  of women ' s deaths continue in Kashmir\n",
      "   0.0014644503885541164    4133 OG\tBank of Italy hit by  strike  on first day of euro work, but\n",
      "   0.0012080111543739675    857 NA\tBond prices usually  rally  on word of slow growth because that indicates inflation is not a problem.\n",
      "3\n",
      "2517\n",
      "FT\tEven quick sales at high prices would not be a full solution for Bethlehem. A threatened  strike  against General Motors by the United Automobile Workers union would hurt Bethlehem, a major GM supplier. Moreover, flat roll capacity is about to rocket, as Nucor Corp., LTV Corp. and a joint venture between Australia's Broken Hill Proprietary Co. and Norstar Steel expect to have new minimills producing within the next year.\n",
      "1073   58.545396786871486\n",
      "   0.0012079025645636066    2083 OG\tPolicemen Begin Hunger  Strike  In Rebel Stronghold\n",
      "   0.001152765225940346    4779 OG\tLONG  STRIKE  COULD AFFECT SOME OF BASEBALL'S MOST FAMILIAR NAMES\n",
      "   0.0011256938150613232    3498 NA\tRussia's Nikolay Davydenko had earlier  rallied  to beat Eduardo Schwank 4-6, 6-3, 6-1, 6-4 in the first reverse singles to make it 2-2 in the five-match series. Argentina had been leading 2-1 thanks to a win in the doubles on Saturday, after the two teams had shared Friday's opening singles.\n",
      "4\n",
      "4836\n",
      "PA\tProtest  at Sweden ' s Iranian embassy turns violent\n",
      "1004   0.20582711062765757\n",
      "   0    \n",
      "   0    \n",
      "   0    \n",
      "5\n",
      "536\n",
      "NA\tSimply preaching the Gospel and preaching the Gospel simply were his  marching  orders.\n",
      "1016   1.6326330411822525\n",
      "   0.0025097441747368087    784 NA\tSwedish  Rally  Leading Positions\n",
      "   0.0023486978705321757    4493 NA\tSafari  Rally  was dropped from World  Rally  Championship series in October 2002 owing to nonpayment of 42,105 US dollars affiliation fee.\n",
      "   0.0021081851067789193    876 PA\tCelebrities, activists  rally  for Darfur at U.S. Capitol\n",
      "6\n",
      "2547\n",
      "NA\t``I had a much better grasp of the  strike  zone,'' Rogers said. ``When the guys score early and often, it helps you do that.'' Briefly\n",
      "1058   12.370757353094705\n",
      "   0.0026716674050831805    982 PA\t15,000 Workers  Protest  Government Move To Freeze Pay\n",
      "   0.0015799239723541289    4289 NA\tAs Schroeder tried to contain that row, the Free Democrats stepped up their isolation of Moellemann after leaders refused to appear with him at  rallies  in the final days of the campaign, before calling for his resignation Sunday.\n",
      "   0.0015693390929678158    4564 XX\t``Chirac to prison, Jose back home,'' they chanted. Supporters had also called for  protests  in other France cities.\n",
      "7\n",
      "4020\n",
      "PA\tHe was among thousands of  riot  police who stormed a classroom building in Seoul's Yonsei University, where students were holed up after a  rally  the government deemed pro-North Korean.\n",
      "1015   1.2481429427215067\n",
      "   0.0020099222416324453    2086 NA\tGasquet  rallied  from 4-1 down in the first set to beat Jo-Wilfried Tsonga 7-5, 7-6 (3).\n",
      "   0.0014308948688544702    4832 NA\tFASTEST GROWING  OCCUPATIONS\n",
      "   0.0013719208937823773    4106 PA\tBut his father's agitation for Moroccan self-government continued, and in 1953 the French forced the sultan into exile. In 1954 and 1955, as  rioting  and guerrilla warfare increased, Hassan's father regained his title, and the following year Morocco won independence.\n",
      "8\n",
      "3168\n",
      "NA\tA woman whose 1986 death sentence for fatally stabbing an elderly Bible teacher sparked international  protests  and a plea for clemency from the pope is appealing the guilty plea that she made 19 years ago.\n",
      "1038   17.268152056216987\n",
      "   0.001304072765393735    3460 OG\tOntario's Labor Relations Board declared the sudden  strike  by Toronto Transit Commission workers illegal and issued a cease-and-desist order demanding they return to work immediately.\n",
      "   0.0012630652972629162    1295 FT\tOther feminists, while pledging to stage mass  protests  to try to stop the event, have branded the suicide threats \"a cheap gimmick.\"\n",
      "   0.0012209566255476367    216 NA\tCitroen sweeps top four in  Rally  of Bulgaria\n",
      "9\n",
      "5019\n",
      "NA\t\"The liquidity scenario remains very good,\" Kumar said, adding that he expects the stock  rally  to continue, although with occasional downward corrections.\n",
      "1065   19.614057274724434\n",
      "   0.002649868182690497    2056 OG\tMugabe Criticizes  Striking  Civil Servants\n",
      "   0.0016537614740272054    1433 NA\tThree Popular Party local officials resigned on Thursday in  protest  at the government's backing for the war, the party said.\n",
      "   0.001596858768236636    1114 NA\tThe confrontations over the no-flight zone followed two separate  strikes  on Sept. 3, when the United States fired a total of 44 cruise missiles against 15 Iraqi air-defense sites.\n"
     ]
    }
   ],
   "source": [
    "kk=list(utterances.keys())\n",
    "for i in range(10):\n",
    "    k=random.randrange(len(kk))\n",
    "    u = kk[k]\n",
    "    \n",
    "#r=0\n",
    "#for u in utterances:\n",
    "#    r=r+1\n",
    "#    if r>10:\n",
    "#        break\n",
    "    print(i)\n",
    "    print(k)\n",
    "    print(u)\n",
    "    ss=0\n",
    "    ii=0\n",
    "    vec=utterances[u]\n",
    "    for xx in vec:\n",
    "        ss=ss+vec[xx]\n",
    "        if vec[xx] > 0:\n",
    "            ii=ii+1\n",
    "    print(ii,\" \",ss)\n",
    "    max1 = 0\n",
    "    max2 = 0\n",
    "    max3 = 0\n",
    "    s=0\n",
    "    best=\"\"\n",
    "    nextbest=\"\"\n",
    "    thirdbest=\"\"\n",
    "    for v in utterances:\n",
    "        if v==u:\n",
    "            continue\n",
    "        s=s+1;\n",
    "        c=lengthweightedsparsecosine(utterances[u],len(u),utterances[v],len(v))\n",
    "        if (c>max1):\n",
    "            max3=max2\n",
    "            max2=max1\n",
    "            max1=c\n",
    "            thirdbest=nextbest\n",
    "            nextbest=best\n",
    "            best=str(s)+\" \"+v\n",
    "        elif (c>max2):\n",
    "            max3=max2\n",
    "            max2=c\n",
    "            thirdbest=nextbest\n",
    "            nextbest=str(s)+\" \"+v\n",
    "        elif (c>max3):\n",
    "            max3=c\n",
    "            thirdbest=str(s)+\" \"+v\n",
    "             \n",
    "    print(\"  \",max1,\"  \",best)\n",
    "    print(\"  \",max2,\"  \",nextbest)\n",
    "    print(\"  \",max3,\"  \",thirdbest)\n",
    "\n",
    "       "
   ]
  },
  {
   "cell_type": "code",
   "execution_count": null,
   "metadata": {},
   "outputs": [],
   "source": [
    "print(len(lexicon))\n",
    "print(len(vectorspace))\n",
    "#samplefile=open(textfile,'r')\n",
    "#utterance1=samplefile.readline().rstrip()\n",
    "#utterance2=samplefile.readline().rstrip()\n",
    "#samplefile.close()\n",
    "print(utterance1)\n",
    "print(utterance2)\n",
    "cleanuppattern=re.compile(r'[\\.\\'\\!\\*\\?\\+,;\\:\\-\\/]+')\n",
    "cleanedutterance1=re.sub(cleanuppattern,\"\",utterance1)\n",
    "words1=cleanedutterance1.lower().split()\n",
    "cleanedutterance2=re.sub(cleanuppattern,\"\",utterance2)\n",
    "words2=cleanedutterance2.lower().split()\n",
    "uttrep={}\n",
    "for word in words2: \n",
    "    if word not in vectorspace:\n",
    "        print(word,\" is new\")\n",
    "    else:\n",
    "        print(word,\" is known: \",vectorspace[word])\n",
    "        sparseadd(uttrep,vectorspace[word],lexicon[word])"
   ]
  },
  {
   "cell_type": "code",
   "execution_count": null,
   "metadata": {},
   "outputs": [],
   "source": [
    "\n",
    "\n",
    "a=newrandomvector(100,10)\n",
    "b=newrandomvector(100,10)\n",
    "print(a)\n",
    "print(b)\n",
    "c=sparseadd(a,b)\n",
    "print(c)\n",
    "print(3533268.0173778143)\n",
    "print(str(3533268.0173778143))"
   ]
  },
  {
   "cell_type": "code",
   "execution_count": null,
   "metadata": {},
   "outputs": [],
   "source": [
    "k=8\n",
    "nonzeros = random.sample(list(range(10)),k)\n",
    "negatives = random.sample(nonzeros,int(k/2))\n",
    "print(nonzeros)\n",
    "print(negatives)\n",
    "\n",
    "hasch={}\n",
    "hasch[1]=\"ett\"\n",
    "hasch[8]=\"åtta\"\n",
    "for k in hasch:\n",
    "    print(k)\n",
    "    \n"
   ]
  },
  {
   "cell_type": "code",
   "execution_count": null,
   "metadata": {},
   "outputs": [],
   "source": [
    "grammar = {(\"np\", \"vp\") : [\"s\"],\n",
    "           (\"det\", \"n\") : [\"np\"],\n",
    "           (\"v\", \"np\") : [\"vp\"],\n",
    "           (\"be\", \"prpt\") : [\"v\"],\n",
    "           (\"adj\", \"np\") : [\"np\"]}\n",
    "oplexicon = {\n",
    "           \"not\" : [\"neg\"],\n",
    "           \"the\" : [\"det\"],\n",
    "           \"fm\" : [\"TMA\"],\n",
    "           \"fp\" : [\"TMA\"],\n",
    "           \"ft\" : [\"TMA\"],\n",
    "           \"na\" : [\"TMA\"],\n",
    "           \"nn\" : [\"TMA\"],\n",
    "           \"of\" : [\"TMA\"],\n",
    "           \"pa\" : [\"TMA\"],\n",
    "           \"xx\" : [\"TMA\"],\n",
    "          }\n",
    "\n",
    "def parse(words, gram):\n",
    "    length=len(words)\n",
    "    chart = [[lexicon.get(w, 0) for w in words]]\n",
    "    for r in range(length-1):\n",
    "        print(\"  r = \", r)\n",
    "        chart.append([[] for i in range(length-r-1)])\n",
    "    for row in chart:\n",
    "        print(row)\n",
    "    for phrase_length in range(2, length+1):\n",
    "        print(\"phrase_length =\", phrase_length)\n",
    "        for left in range(0, length-phrase_length+1):\n",
    "            print(\"  left = \", left)\n",
    "            for left_length in range(1,phrase_length):\n",
    "                right = left+left_length\n",
    "                right_length = phrase_length-left_length\n",
    "                print(\"    left length = \", left_length,\n",
    "                      \"right = \", right,\n",
    "                      \"right_length =\", right_length)\n",
    "                for left_cat in chart[left_length-1][left]:\n",
    "                    for right_cat in chart[right_length-1][right]:\n",
    "                        print(\"      left_cat = \", left_cat,\n",
    "                              \"      right_cat =\", right_cat)\n",
    "                        phrase_cat = gram.get((left_cat, right_cat), [])\n",
    "                        print(\"      phrase_cat =\", phrase_cat)\n",
    "                        for c in phrase_cat:\n",
    "                            cell = chart[left_length+right_length-1][left]\n",
    "                            if c not in cell:\n",
    "                                cell.append(c)\n",
    "        for row in chart:\n",
    "            print(row)\n",
    "    for row in chart:\n",
    "        print(row)\n"
   ]
  },
  {
   "cell_type": "code",
   "execution_count": null,
   "metadata": {},
   "outputs": [],
   "source": [
    "nonzeros"
   ]
  },
  {
   "cell_type": "code",
   "execution_count": 36,
   "metadata": {
    "scrolled": true
   },
   "outputs": [
    {
     "name": "stdout",
     "output_type": "stream",
     "text": [
      "This is a test of an utterance with FEW known words and a 4566 (number)\n",
      "['this', 'is', 'a', 'test', 'of', 'an', 'utterance', 'with', 'few', 'known', 'words', 'and', 'a', '4566', '(number)']\n",
      "this\n",
      "2.64319241476306\n",
      "is\n",
      "2.00541778832661\n",
      "a\n",
      "0.590344462656673\n",
      "test\n",
      "6.04992997680083\n",
      "of\n",
      "0.540204315157007\n",
      "an\n",
      "2.06869190235121\n",
      "utterance\n",
      "1\n",
      "with\n",
      "1.65137404017574\n",
      "few\n",
      "4.3917019001973\n",
      "known\n",
      "4.92391871394461\n",
      "words\n",
      "5.9698872691273\n",
      "and\n",
      "0.64238458306848\n",
      "a\n",
      "0.590344462656673\n",
      "4566\n",
      "1\n",
      "(number)\n",
      "1\n"
     ]
    }
   ],
   "source": [
    "oneutterance=\"This is a test of an utterance with FEW known words and a 4566 (number).\"\n",
    "cleanuppattern=re.compile(r'[\\.\\'\\!\\*\\?\\+,;\\:\\-\\/]+')\n",
    "uttrep=[]\n",
    "cleanedutterance=re.sub(cleanuppattern,\"\",oneutterance)\n",
    "print(cleanedutterance)\n",
    "words=cleanedutterance.lower().split()\n",
    "print(words)\n",
    "for word in words: \n",
    "    print(word)\n",
    "    if word not in vectorspace:\n",
    "        vec=newrandomvector(2000,10)\n",
    "        weight=1\n",
    "    else:\n",
    "        vec=vectorspace[word]\n",
    "        weight=lexicon[word]\n",
    "    print(weight)\n",
    "    uttrep=sparseadd(uttrep,vec,weight)\n"
   ]
  },
  {
   "cell_type": "code",
   "execution_count": 38,
   "metadata": {},
   "outputs": [
    {
     "ename": "KeyError",
     "evalue": "0",
     "output_type": "error",
     "traceback": [
      "\u001b[0;31m---------------------------------------------------------------------------\u001b[0m",
      "\u001b[0;31mKeyError\u001b[0m                                  Traceback (most recent call last)",
      "\u001b[0;32m<ipython-input-38-34aa54e1cf06>\u001b[0m in \u001b[0;36m<module>\u001b[0;34m()\u001b[0m\n\u001b[0;32m----> 1\u001b[0;31m \u001b[0mlexicon\u001b[0m\u001b[0;34m[\u001b[0m\u001b[0;36m0\u001b[0m\u001b[0;34m]\u001b[0m\u001b[0;34m\u001b[0m\u001b[0m\n\u001b[0m",
      "\u001b[0;31mKeyError\u001b[0m: 0"
     ]
    }
   ],
   "source": [
    "lexicon[0]\n"
   ]
  },
  {
   "cell_type": "code",
   "execution_count": 39,
   "metadata": {},
   "outputs": [
    {
     "data": {
      "text/plain": [
       "'1.65137404017574'"
      ]
     },
     "execution_count": 39,
     "metadata": {},
     "output_type": "execute_result"
    }
   ],
   "source": [
    "lexicon[\"with\"]"
   ]
  },
  {
   "cell_type": "code",
   "execution_count": 59,
   "metadata": {},
   "outputs": [
    {
     "data": {
      "text/plain": [
       "'7.14854226546894'"
      ]
     },
     "execution_count": 59,
     "metadata": {},
     "output_type": "execute_result"
    }
   ],
   "source": [
    "lexicon[\"yacht\"]"
   ]
  },
  {
   "cell_type": "code",
   "execution_count": null,
   "metadata": {},
   "outputs": [],
   "source": []
  }
 ],
 "metadata": {
  "kernelspec": {
   "display_name": "Python 3",
   "language": "python",
   "name": "python3"
  },
  "language_info": {
   "codemirror_mode": {
    "name": "ipython",
    "version": 3
   },
   "file_extension": ".py",
   "mimetype": "text/x-python",
   "name": "python",
   "nbconvert_exporter": "python",
   "pygments_lexer": "ipython3",
   "version": "3.5.2"
  }
 },
 "nbformat": 4,
 "nbformat_minor": 2
}
