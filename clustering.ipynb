{
 "cells": [
  {
   "cell_type": "code",
   "execution_count": 76,
   "metadata": {},
   "outputs": [
    {
     "name": "stdout",
     "output_type": "stream",
     "text": [
      "[3.2000000000000002, 2.0, 3.0, 6.4000000000000004, 6.4000000000000004, 3.2000000000000002]\n",
      "{'5': [3, 4, 5, 6, 9, 10], '2': [9, 0, 0, 9, 9, 2], '1': [3, 6, 9, 9, 8, 3], '3': [3, 2, 3, 1, 1, 1], '0': [1, 2, 3, 4, 5, 6], '4': [0, 0, 0, 9, 9, 4]}\n",
      "3  <->  4  are closest by  0.10837438423645321\n",
      "{'5': [3, 4, 5, 6, 9, 10], '2': [9, 0, 0, 9, 9, 2], '1': [3, 6, 9, 9, 8, 3], '3_4': [1.5, 1.0, 1.5, 5.0, 5.0, 2.5], '0': [1, 2, 3, 4, 5, 6]}\n",
      "0  <->  2  are closest by  0.30177514792899407\n",
      "{'0_2': [5.0, 1.0, 1.5, 6.5, 7.0, 4.0], '5': [3, 4, 5, 6, 9, 10], '1': [3, 6, 9, 9, 8, 3], '3_4': [1.5, 1.0, 1.5, 5.0, 5.0, 2.5]}\n",
      "1  <->  3_4  are closest by  0.340892465252\n",
      "{'0_2': [5.0, 1.0, 1.5, 6.5, 7.0, 4.0], '5': [3, 4, 5, 6, 9, 10], '1_3_4': [2.25, 3.5, 5.25, 7.0, 6.5, 2.75]}\n",
      "0_2  <->  5  are closest by  0.418633540373\n",
      "========\n",
      "{'1_3_4': [2.25, 3.5, 5.25, 7.0, 6.5, 2.75], '0_2_5': [4.0, 2.5, 3.25, 6.25, 8.0, 7.0]}\n"
     ]
    }
   ],
   "source": [
    "import numpy\n",
    "\n",
    "def cosine(xvec,yvec):\n",
    "    x2 = 0;\n",
    "    y2 = 0;\n",
    "    xy = 0;\n",
    "    try:\n",
    "        for i in range(len(xvec)):\n",
    "            x2 += xvec[i]*xvec[i]\n",
    "            y2 += yvec[i]*yvec[i]\n",
    "            xy += xvec[i]*yvec[i]\n",
    "#            print (i,\" \",xvec[i],\" \",yvec[i],\" \",x2,\" \",y2,\" \",xy)\n",
    "    except:\n",
    "        print(\"error at position \",i)\n",
    "    if (x2+y2 == 0):\n",
    "        x2 = 1\n",
    "    cos = xy/(x2+y2)\n",
    "    return cos\n",
    "    \n",
    "def centroid(points):\n",
    "    c = list(numpy.zeros(len(points[0]))) #   ugly\n",
    "    for p in points:\n",
    "        for i in range(len(p)):\n",
    "            c[i] += p[i] #unsafe and too trusting\n",
    "    for i in range(len(c)):\n",
    "        c[i] = c[i]/len(points)\n",
    "    return c\n",
    "    \n",
    "actives = {} #numpy.empty(len(listofpoints))\n",
    "merged = {}\n",
    "\n",
    "def initiate(listofpoints):\n",
    "    i = 0\n",
    "    for p in listofpoints:\n",
    "        actives[str(i)] = p\n",
    "        i = 1+i\n",
    "\n",
    "def merge():\n",
    "    min = 1\n",
    "    shortest = ()\n",
    "    for cc in list(actives.keys()):\n",
    "        for dd in list(actives.keys()): \n",
    "#            if (dd == cc):\n",
    "#                continue\n",
    "            if (dd <= cc):\n",
    "                continue\n",
    "            cand = cosine(actives[cc],actives[dd])\n",
    "            if (cand < min):\n",
    "                shortest=(cc,dd)\n",
    "                min = cand\n",
    "                \n",
    "    print (shortest[0],\" <-> \",shortest[1],\" are closest by \",min)\n",
    "    ee = newkey(shortest[0],shortest[1],cc)\n",
    "    actives[ee] = centroid([actives[shortest[0]],actives[shortest[1]]]) # cc+1 is a bit sketchy should have better key generator\n",
    "    merged[shortest[0]] = actives.pop(shortest[0])\n",
    "    merged[shortest[1]] = actives.pop(shortest[1])\n",
    "    \n",
    "def newkey(onekey,notherkey,lastindex):\n",
    "    return str(onekey)+\"_\"+str(notherkey)\n",
    "\n",
    "ett = [1,2,3,4,5,6]\n",
    "sechs = [3,4,5,6,9,10]\n",
    "tvaa = [3,6,9,9,8,3]\n",
    "tre = [9,0,0,9,9,2]\n",
    "fyra = [3,2,3,1,1,1]\n",
    "fem = [0,0,0,9,9,4]\n",
    "\n",
    "k = 2\n",
    "print(centroid([ett,tvaa,tre,fyra,fem]))\n",
    "initiate([ett,tvaa,tre,fyra,fem,sechs])\n",
    "while (len(actives) > k):\n",
    "    print(actives)\n",
    "    merge()\n",
    "\n",
    "print(\"=\"*8)\n",
    "\n",
    "print(actives)\n"
   ]
  },
  {
   "cell_type": "code",
   "execution_count": 59,
   "metadata": {},
   "outputs": [
    {
     "data": {
      "text/plain": [
       "[0.0, 0.0, 0.0, 0.0, 0.0, 0.0]"
      ]
     },
     "execution_count": 59,
     "metadata": {},
     "output_type": "execute_result"
    }
   ],
   "source": [
    "list(numpy.zeros(len(ett)))\n"
   ]
  },
  {
   "cell_type": "code",
   "execution_count": null,
   "metadata": {},
   "outputs": [],
   "source": []
  },
  {
   "cell_type": "markdown",
   "metadata": {},
   "source": [
    "https://docs.python.org/2/library/csv.html"
   ]
  }
 ],
 "metadata": {
  "kernelspec": {
   "display_name": "Python 3",
   "language": "python",
   "name": "python3"
  },
  "language_info": {
   "codemirror_mode": {
    "name": "ipython",
    "version": 3
   },
   "file_extension": ".py",
   "mimetype": "text/x-python",
   "name": "python",
   "nbconvert_exporter": "python",
   "pygments_lexer": "ipython3",
   "version": "3.5.2"
  }
 },
 "nbformat": 4,
 "nbformat_minor": 2
}
