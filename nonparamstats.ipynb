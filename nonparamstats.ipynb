{
 "cells": [
  {
   "cell_type": "markdown",
   "metadata": {},
   "source": [
    "\n",
    "# About data analysis\n",
    "\n",
    "## We will talk about two ways to look at stuff one counts\n",
    "\n",
    "- First, tend things of one kind do sth ever so slightly differently than other kinds of things?\n",
    "\n",
    "- Second if we have a number of categories are they different from each other\n",
    "\n",
    "Get rid of as many assumptions as possible\n",
    "\n",
    "## But first, what day is this?\n",
    "\n",
    "\n",
    "<img src=\"Germanic_languages_in_Europe.png\">\n",
    "\n",
    "\n",
    "<img src=\"Brevmarke_200.jpg\">\n",
    "\n",
    "<img src=\"Lützen.jpg\">\n",
    "\n",
    "<img src=\"wasa.gif\">\n"
   ]
  },
  {
   "cell_type": "code",
   "execution_count": 1,
   "metadata": {},
   "outputs": [],
   "source": [
    "import numpy as np\n",
    "import math\n",
    "np.set_printoptions(suppress=True, precision=4)"
   ]
  },
  {
   "cell_type": "markdown",
   "metadata": {},
   "source": [
    "# Some Example Data"
   ]
  },
  {
   "cell_type": "code",
   "execution_count": 2,
   "metadata": {},
   "outputs": [
    {
     "name": "stdout",
     "output_type": "stream",
     "text": [
      "0   True   22\n",
      "1   True   33\n",
      "2   True   12\n",
      "3   True   74\n",
      "4   True   32\n",
      "5   True   42\n",
      "6   True   23\n",
      "7   False   11\n",
      "8   False   31\n",
      "9   False   41\n",
      "10   False   53\n",
      "11   False   61\n",
      "12   False   34\n",
      "13   False   51\n",
      "14   False   71\n",
      "15   False   63\n",
      "16   False   55\n"
     ]
    }
   ],
   "source": [
    "items=np.array([[True,True,True,True,True,True,True,False,False,False,False,False,False,False,False,False,False],\n",
    "                [22, 33, 12, 74, 32, 42, 23,11, 31, 41, 53, 61, 34, 51, 71, 63, 55],\n",
    "               [\"a\",\"b\",\"c\",\"d\",\"e\",\"f\",\"g\",\"h\",\"i\",\"j\",\"k\",\"l\",\"m\",\"n\",\"o\",\"p\",\"q\"]])\n",
    "\n",
    "\n",
    "for i in range(len(items[1])):\n",
    "    print(i,\" \",items[0,i],\" \",items[1,i])\n"
   ]
  },
  {
   "cell_type": "markdown",
   "metadata": {},
   "source": [
    "### (Magic Numbers are a Bad Thing)"
   ]
  },
  {
   "cell_type": "code",
   "execution_count": 3,
   "metadata": {},
   "outputs": [
    {
     "name": "stdout",
     "output_type": "stream",
     "text": [
      "0   True   22\n",
      "1   True   33\n",
      "2   True   12\n",
      "3   True   74\n",
      "4   True   32\n",
      "5   True   42\n",
      "6   True   23\n",
      "7   False   11\n",
      "8   False   31\n",
      "9   False   41\n",
      "10   False   53\n",
      "11   False   61\n",
      "12   False   34\n",
      "13   False   51\n",
      "14   False   71\n",
      "15   False   63\n",
      "16   False   55\n"
     ]
    }
   ],
   "source": [
    "items=np.array([[True,True,True,True,True,True,True,False,False,False,False,False,False,False,False,False,False],\n",
    "                [22, 33, 12, 74, 32, 42, 23,11, 31, 41, 53, 61, 34, 51, 71, 63, 55],\n",
    "               [\"a\",\"b\",\"c\",\"d\",\"e\",\"f\",\"g\",\"h\",\"i\",\"j\",\"k\",\"l\",\"m\",\"n\",\"o\",\"p\",\"q\"]])\n",
    "\n",
    "critcolumn = 0\n",
    "valuecolumn = 1\n",
    "\n",
    "for i in range(len(items[0])):\n",
    "    print(i,\" \",items[critcolumn,i],\" \",items[valuecolumn,i])\n",
    "\n"
   ]
  },
  {
   "cell_type": "code",
   "execution_count": 4,
   "metadata": {},
   "outputs": [
    {
     "name": "stdout",
     "output_type": "stream",
     "text": [
      "0   True   22\n",
      "1   True   33\n",
      "2   True   12\n",
      "3   True   74\n",
      "4   True   32\n",
      "5   True   42\n",
      "6   True   23\n",
      "7   False   11\n",
      "8   False   31\n",
      "9   False   41\n",
      "10   False   53\n",
      "11   False   61\n",
      "12   False   34\n",
      "13   False   51\n",
      "14   False   71\n",
      "15   False   63\n",
      "16   False   55\n"
     ]
    }
   ],
   "source": [
    "for i in range(len(items[0])):\n",
    "    if items[critcolumn,i]:\n",
    "        print(i,\" \",items[critcolumn,i],\" \",items[valuecolumn,i])\n"
   ]
  },
  {
   "cell_type": "code",
   "execution_count": 5,
   "metadata": {},
   "outputs": [],
   "source": [
    "def str2bool(string):\n",
    "    if string==\"True\": \n",
    "        return True \n",
    "    elif string==\"False\":\n",
    "        return False \n",
    "    else: \n",
    "        raise Exception(\"Что за черт? This string is not a boolean: \\\"\"+string+\"\\\"\")"
   ]
  },
  {
   "cell_type": "code",
   "execution_count": 8,
   "metadata": {},
   "outputs": [
    {
     "ename": "Exception",
     "evalue": "Что за черт? This string is not a boolean: \"Jussi\"",
     "output_type": "error",
     "traceback": [
      "\u001b[0;31m---------------------------------------------------------------------------\u001b[0m",
      "\u001b[0;31mException\u001b[0m                                 Traceback (most recent call last)",
      "\u001b[0;32m<ipython-input-8-84181be87ba5>\u001b[0m in \u001b[0;36m<module>\u001b[0;34m()\u001b[0m\n\u001b[0;32m----> 1\u001b[0;31m \u001b[0;32mif\u001b[0m \u001b[0mstr2bool\u001b[0m\u001b[0;34m(\u001b[0m\u001b[0;34m\"Jussi\"\u001b[0m\u001b[0;34m)\u001b[0m\u001b[0;34m:\u001b[0m\u001b[0;34m\u001b[0m\u001b[0m\n\u001b[0m\u001b[1;32m      2\u001b[0m     \u001b[0mprint\u001b[0m\u001b[0;34m(\u001b[0m\u001b[0;34m\"Huzza!\"\u001b[0m\u001b[0;34m)\u001b[0m\u001b[0;34m\u001b[0m\u001b[0m\n\u001b[1;32m      3\u001b[0m \u001b[0;32melse\u001b[0m\u001b[0;34m:\u001b[0m\u001b[0;34m\u001b[0m\u001b[0m\n\u001b[1;32m      4\u001b[0m     \u001b[0mprint\u001b[0m\u001b[0;34m(\u001b[0m\u001b[0;34m\"Blah.\"\u001b[0m\u001b[0;34m)\u001b[0m\u001b[0;34m\u001b[0m\u001b[0m\n",
      "\u001b[0;32m<ipython-input-5-cde283bbfef5>\u001b[0m in \u001b[0;36mstr2bool\u001b[0;34m(string)\u001b[0m\n\u001b[1;32m      5\u001b[0m         \u001b[0;32mreturn\u001b[0m \u001b[0;32mFalse\u001b[0m\u001b[0;34m\u001b[0m\u001b[0m\n\u001b[1;32m      6\u001b[0m     \u001b[0;32melse\u001b[0m\u001b[0;34m:\u001b[0m\u001b[0;34m\u001b[0m\u001b[0m\n\u001b[0;32m----> 7\u001b[0;31m         \u001b[0;32mraise\u001b[0m \u001b[0mException\u001b[0m\u001b[0;34m(\u001b[0m\u001b[0;34m\"Что за черт? This string is not a boolean: \\\"\"\u001b[0m\u001b[0;34m+\u001b[0m\u001b[0mstring\u001b[0m\u001b[0;34m+\u001b[0m\u001b[0;34m\"\\\"\"\u001b[0m\u001b[0;34m)\u001b[0m\u001b[0;34m\u001b[0m\u001b[0m\n\u001b[0m",
      "\u001b[0;31mException\u001b[0m: Что за черт? This string is not a boolean: \"Jussi\""
     ]
    }
   ],
   "source": [
    "if str2bool(\"Jussi\"):\n",
    "    print(\"Huzza!\")\n",
    "else:\n",
    "    print(\"Blah.\")"
   ]
  },
  {
   "cell_type": "code",
   "execution_count": 9,
   "metadata": {},
   "outputs": [
    {
     "name": "stdout",
     "output_type": "stream",
     "text": [
      "0   True   22\n",
      "1   True   33\n",
      "2   True   12\n",
      "3   True   74\n",
      "4   True   32\n",
      "5   True   42\n",
      "6   True   23\n"
     ]
    }
   ],
   "source": [
    "for i in range(len(items[0])):\n",
    "    if str2bool(items[critcolumn,i]):\n",
    "        print(i,\" \",items[critcolumn,i],\" \",items[valuecolumn,i])"
   ]
  },
  {
   "cell_type": "markdown",
   "metadata": {},
   "source": [
    "## Save effort and time by coding! \n",
    "\n",
    "https://xkcd.com/1205/\n",
    "\n",
    "- Use Modules!\n",
    "\n",
    "- Use APIs!\n"
   ]
  },
  {
   "cell_type": "code",
   "execution_count": 12,
   "metadata": {},
   "outputs": [
    {
     "name": "stdout",
     "output_type": "stream",
     "text": [
      "[['True' 'True' 'True' 'True' 'True' 'True' 'True' 'False' 'False' 'False'\n",
      "  'False' 'False' 'False' 'False' 'False' 'False' 'False']\n",
      " ['22' '33' '12' '74' '32' '42' '23' '11' '31' '41' '53' '61' '34' '51'\n",
      "  '71' '63' '55']\n",
      " ['a' 'b' 'c' 'd' 'e' 'f' 'g' 'h' 'i' 'j' 'k' 'l' 'm' 'n' 'o' 'p' 'q']]\n",
      "\n",
      "\n",
      "17  items seen with  41.705882352941174  average score\n",
      "   whereof  7  relevant with sum  238.0  and average score  34.0\n",
      "   whereof  10  non-relevant with sum  471.0  and average score  47.1\n"
     ]
    }
   ],
   "source": [
    "print(items)\n",
    "print(\"\\n\")\n",
    "critcolumn = 0\n",
    "valuecolumn = 1\n",
    "debug = False\n",
    "totnum=0\n",
    "relnum=0\n",
    "nonnum=0\n",
    "totsum=0\n",
    "relsum=0\n",
    "nonsum=0\n",
    "if debug:\n",
    "    print(\"i\\tcrit\\tvalue\\tN\\tsum\\t#rel\\trelsum\\t#non\\tnonsum\")\n",
    "\n",
    "for i in range(len(items[0])):\n",
    "    totnum += 1\n",
    "    if str2bool(items[critcolumn,int(i)]):\n",
    "        relnum += 1\n",
    "        relsum += float(items[valuecolumn,i])\n",
    "    else:\n",
    "        nonnum += 1\n",
    "        nonsum += float(items[valuecolumn,i])\n",
    "    totsum += float(items[valuecolumn,i])\n",
    "    if debug:\n",
    "        print(i,\"\\t\",items[critcolumn,i],\"\\t\",items[valuecolumn,i],\"\\t\",\n",
    "              totnum,\"\\t\",totsum,\"\\t\",\n",
    "              relnum,\"\\t\",relsum,\"\\t\",\n",
    "              nonnum,\"\\t\",nonsum)\n",
    "\n",
    "relavscore=0\n",
    "if relnum > 0:\n",
    "    relavscore = relsum/relnum\n",
    "nonavscore=0\n",
    "if nonnum > 0:\n",
    "    nonavscore = nonsum/nonnum\n",
    "totavscore=0\n",
    "if totnum > 0:\n",
    "    totavscore = totsum/totnum\n",
    " \n",
    "\n",
    "print(totnum,\" items seen with \",totavscore,\" average score\")\n",
    "print(\"   whereof \",relnum,\" relevant with sum \",relsum,\" and average score \",relavscore)\n",
    "print(\"   whereof \",nonnum,\" non-relevant with sum \",nonsum,\" and average score \",nonavscore)\n",
    "\n"
   ]
  },
  {
   "cell_type": "markdown",
   "metadata": {},
   "source": [
    "\n",
    "\n",
    "\n",
    "\n",
    "\n",
    "- print-style debugging\n",
    "- working around default typing\n",
    "- magic numbers"
   ]
  },
  {
   "cell_type": "markdown",
   "metadata": {},
   "source": [
    "### Exercise 1: Visualisation please!"
   ]
  },
  {
   "cell_type": "markdown",
   "metadata": {},
   "source": [
    "# Statistical testing"
   ]
  },
  {
   "cell_type": "markdown",
   "metadata": {},
   "source": [
    "- mean vs median (beware of mean!)\n",
    "- parametric vs nonparametric"
   ]
  },
  {
   "cell_type": "markdown",
   "metadata": {},
   "source": [
    "## Sorting matrices"
   ]
  },
  {
   "cell_type": "code",
   "execution_count": 19,
   "metadata": {},
   "outputs": [
    {
     "name": "stdout",
     "output_type": "stream",
     "text": [
      "[[5 2 3]\n",
      " [8 1 3]\n",
      " [2 3 4]]\n",
      "----------\n",
      "[8 1 3]\n",
      "----------\n",
      "[1 2 0]\n",
      "----------\n",
      "[1 3 8]\n",
      "----------\n",
      "[[2 3 5]\n",
      " [1 3 8]\n",
      " [3 4 2]]\n",
      "----------\n",
      "[2 0 1]\n",
      "----------\n",
      "[[2 3 4]\n",
      " [5 2 3]\n",
      " [8 1 3]]\n"
     ]
    }
   ],
   "source": [
    "a = np.array([[5,2,3],[8,1,3],[2,3,4]])\n",
    "#a = np.array([[False,False,True,False,True,False,True],[1,9,4,2,6,5,8],[\"a\",\"b\",\"c\",\"d\",\"e\",\"f\",\"g\"]]) \n",
    "print(a) \n",
    "print(\"----------\")\n",
    "c = a[1,:]\n",
    "print(c)\n",
    "print(\"----------\")\n",
    "c = a[1,:].argsort() \n",
    "## argsort(axis=-1, kind='quicksort', order=None)\tReturns the indices that would sort this array.\n",
    "print(c) \n",
    "print(\"----------\")\n",
    "d = a[1,c] \n",
    "print(d) \n",
    "print(\"----------\")\n",
    "d = a[:,c] \n",
    "print(d) \n",
    "print(\"----------\")\n",
    "c = a[:,0].argsort() \n",
    "print(c) \n",
    "print(\"----------\")\n",
    "e = a[c,:] \n",
    "print(e)\n"
   ]
  },
  {
   "cell_type": "markdown",
   "metadata": {},
   "source": [
    "## On our little test data"
   ]
  },
  {
   "cell_type": "code",
   "execution_count": 20,
   "metadata": {},
   "outputs": [
    {
     "name": "stdout",
     "output_type": "stream",
     "text": [
      "[ 7  2  0  6  8  4  1 12  9  5 13 10 16 11 15 14  3]\n",
      "[['False' 'True' 'True' 'True' 'False' 'True' 'True' 'False' 'False' 'True'\n",
      "  'False' 'False' 'False' 'False' 'False' 'False' 'True']\n",
      " ['11' '12' '22' '23' '31' '32' '33' '34' '41' '42' '51' '53' '55' '61'\n",
      "  '63' '71' '74']\n",
      " ['h' 'c' 'a' 'g' 'i' 'e' 'b' 'm' 'j' 'f' 'n' 'k' 'q' 'l' 'p' 'o' 'd']]\n"
     ]
    }
   ],
   "source": [
    "items=np.array([[True,True,True,True,True,True,True,False,False,False,False,False,False,False,False,False,False],\n",
    "                [22, 33, 12, 74, 32, 42, 23,11, 31, 41, 53, 61, 34, 51, 71, 63, 55],\n",
    "               [\"a\",\"b\",\"c\",\"d\",\"e\",\"f\",\"g\",\"h\",\"i\",\"j\",\"k\",\"l\",\"m\",\"n\",\"o\",\"p\",\"q\"]])\n",
    "\n",
    "\n",
    "sortedscores=items[1,:].argsort()\n",
    "print(sortedscores)\n",
    "sorteditems=items[:,sortedscores]\n",
    "print(sorteditems)"
   ]
  },
  {
   "cell_type": "markdown",
   "metadata": {},
   "source": [
    "## Calculating rank sum and the Mann Whitney U"
   ]
  },
  {
   "cell_type": "code",
   "execution_count": 21,
   "metadata": {},
   "outputs": [
    {
     "name": "stdout",
     "output_type": "stream",
     "text": [
      "[['True' 'True' 'True' 'True' 'True' 'True' 'True' 'False' 'False' 'False'\n",
      "  'False' 'False' 'False' 'False' 'False' 'False' 'False']\n",
      " ['22' '33' '12' '74' '32' '42' '23' '11' '31' '41' '53' '61' '34' '51'\n",
      "  '71' '63' '55']\n",
      " ['a' 'b' 'c' 'd' 'e' 'f' 'g' 'h' 'i' 'j' 'k' 'l' 'm' 'n' 'o' 'p' 'q']]\n",
      "\n",
      "\n",
      "i\tcrit\tvalue\tN\tsum\t#rel\trel sum\t#non\tnon sum\n",
      "7 \t False \t 11 \t 1 \t 1 \t 0 \t 0 \t 1 \t 1\n",
      "2 \t True \t 12 \t 2 \t 3 \t 1 \t 2 \t 1 \t 1\n",
      "0 \t True \t 22 \t 3 \t 6 \t 2 \t 5 \t 1 \t 1\n",
      "6 \t True \t 23 \t 4 \t 10 \t 3 \t 9 \t 1 \t 1\n",
      "8 \t False \t 31 \t 5 \t 15 \t 3 \t 9 \t 2 \t 6\n",
      "4 \t True \t 32 \t 6 \t 21 \t 4 \t 15 \t 2 \t 6\n",
      "1 \t True \t 33 \t 7 \t 28 \t 5 \t 22 \t 2 \t 6\n",
      "12 \t False \t 34 \t 8 \t 36 \t 5 \t 22 \t 3 \t 14\n",
      "9 \t False \t 41 \t 9 \t 45 \t 5 \t 22 \t 4 \t 23\n",
      "5 \t True \t 42 \t 10 \t 55 \t 6 \t 32 \t 4 \t 23\n",
      "13 \t False \t 51 \t 11 \t 66 \t 6 \t 32 \t 5 \t 34\n",
      "10 \t False \t 53 \t 12 \t 78 \t 6 \t 32 \t 6 \t 46\n",
      "16 \t False \t 55 \t 13 \t 91 \t 6 \t 32 \t 7 \t 59\n",
      "11 \t False \t 61 \t 14 \t 105 \t 6 \t 32 \t 8 \t 73\n",
      "15 \t False \t 63 \t 15 \t 120 \t 6 \t 32 \t 9 \t 88\n",
      "14 \t False \t 71 \t 16 \t 136 \t 6 \t 32 \t 10 \t 104\n",
      "3 \t True \t 74 \t 17 \t 153 \t 7 \t 49 \t 10 \t 104\n",
      "17  items seen with  41.705882352941174  average score\n",
      "   whereof  7  relevant with rank sum  49  and average score  34.0\n",
      "   whereof  10  non-relevant with rank sum  104  and average score  47.1\n",
      "   U-score:  21.0\n",
      "   or possibly:  49.0\n"
     ]
    }
   ],
   "source": [
    "print(items)\n",
    "print(\"\\n\")\n",
    "critpos = 0;\n",
    "valuecolumn = 1\n",
    "debug = True\n",
    "totnum=0\n",
    "relnum=0\n",
    "nonnum=0\n",
    "totsum=0\n",
    "relsum=0\n",
    "nonsum=0\n",
    "totranksum=0\n",
    "relranksum=0\n",
    "nonranksum=0\n",
    "print(\"i\\tcrit\\tvalue\\tN\\tsum\\t#rel\\trel sum\\t#non\\tnon sum\")\n",
    "sortedscoreindices=items[1,:].argsort()\n",
    "sorteditems=items[:,sortedscoreindices]\n",
    "for i in sortedscoreindices:\n",
    "    totnum += 1\n",
    "    if str2bool(items[0,i]):\n",
    "        relnum += 1\n",
    "        relranksum += totnum\n",
    "        relsum += float(items[1,i])\n",
    "    else:\n",
    "        nonnum += 1\n",
    "        nonranksum += totnum\n",
    "        nonsum += float(items[1,i])\n",
    "    totsum += float(items[1,i])\n",
    "    totranksum += totnum\n",
    "    if debug:\n",
    "        print(i,\"\\t\",items[0,i],\"\\t\",items[1,i],\"\\t\",\n",
    "              totnum,\"\\t\",totranksum,\"\\t\",\n",
    "              relnum,\"\\t\",relranksum,\"\\t\",\n",
    "              nonnum,\"\\t\",nonranksum)\n",
    "\n",
    "relavscore=0\n",
    "if relnum > 0:\n",
    "    relavscore = relsum/relnum\n",
    "nonavscore=0\n",
    "if nonnum > 0:\n",
    "    nonavscore = nonsum/nonnum\n",
    "totavscore=0\n",
    "if totnum > 0:\n",
    "    totavscore = totsum/totnum\n",
    " \n",
    "\n",
    "print(totnum,\" items seen with \",totavscore,\" average score\")\n",
    "print(\"   whereof \",relnum,\" relevant with rank sum \",relranksum,\" and average score \",relavscore)\n",
    "print(\"   whereof \",nonnum,\" non-relevant with rank sum \",nonranksum,\" and average score \",nonavscore)\n",
    "\n",
    "relu = relranksum-relnum*(relnum+1)/2\n",
    "nonu = nonranksum-nonnum*(nonnum+1)/2\n",
    "\n",
    "\n",
    "print(\"   U-score: \",relu)\n",
    "print(\"   or possibly: \",nonu)\n",
    "\n",
    "\n"
   ]
  },
  {
   "cell_type": "markdown",
   "metadata": {},
   "source": [
    "\n",
    "\n",
    "\n",
    "\n",
    "### Exercise 2: Write a function which picks out the median from the items datastructure\n",
    "\n",
    "\n",
    "\n",
    "- There will be broken matrices.\n",
    "\n",
    "### Exercise 3: Check to see that the matrix is well formed and raise error if not\n",
    "\n",
    "- How about ties?\n",
    "\n",
    "### Exercise 4: Handle ties\n",
    "\n",
    "- How about items with missing values?\n",
    "\n",
    "### Exercise 5: Handle items with missing values\n",
    "\n",
    "- More categories?\n",
    "\n",
    "### Exercise 6: Handle one category vs many others\n",
    "\n"
   ]
  },
  {
   "cell_type": "markdown",
   "metadata": {},
   "source": [
    "# Significance\n",
    "\n",
    "There are $relnum$ items of interest and $totnum$ ranks. Average rank would be $(totnum+1)/2$; average rank sum for the $relnum$ items of interest should be about $relnum*(totnum+1)/2$. Minimum rank for $relnum$ items is $relnum*(relnum+1)/2$\n",
    "\n",
    "We use a guess---based on a Gaussian distribution which is at least somewhat reasonable here---for what the standard deviation around those ranks can be to figure out if deviation from that rank sum is interestingly high. \n"
   ]
  },
  {
   "cell_type": "code",
   "execution_count": 22,
   "metadata": {},
   "outputs": [
    {
     "name": "stdout",
     "output_type": "stream",
     "text": [
      "Number of items:  17\n",
      "Middle rank:  9.0\n",
      "Number of items of interest:  7\n",
      "Expected rank sum for those items:  63.0\n",
      "Observed rank sum:  49\n",
      "Minimum possible rank for the  7  items is  28.0\n",
      "U score for the  7  items is  21.0\n",
      "Standard deviation:  10.246950765959598\n",
      "95% level upper bound:  79.85520931492694\n",
      "95% level lower bound:  46.14479068507306\n",
      "75% level upper bound:  69.91669176702273\n",
      "75% level lower bound:  56.083308232977274\n"
     ]
    }
   ],
   "source": [
    "print(\"Number of items: \",totnum)\n",
    "print(\"Middle rank: \",(totnum+1)/2)\n",
    "print(\"Number of items of interest: \",relnum)\n",
    "print(\"Expected rank sum for those items: \", relnum*(totnum+1)/2)\n",
    "print(\"Observed rank sum: \",relranksum)\n",
    "print(\"Minimum possible rank for the \",relnum,\" items is \",relnum*(relnum+1)/2)\n",
    "print(\"U score for the \",relnum,\" items is \",relranksum-relnum*(relnum+1)/2)\n",
    "print(\"Standard deviation: \",math.sqrt(relnum*nonnum*(totnum+1)/12)) #fingers crossed that it is Gaussian enough\n",
    "print(\"95% level upper bound: \", relnum*(totnum+1)/2+1.6449*math.sqrt(relnum*nonnum*(totnum+1)/12))\n",
    "print(\"95% level lower bound: \", relnum*(totnum+1)/2-1.6449*math.sqrt(relnum*nonnum*(totnum+1)/12))\n",
    "print(\"75% level upper bound: \", relnum*(totnum+1)/2+0.675*math.sqrt(relnum*nonnum*(totnum+1)/12))\n",
    "print(\"75% level lower bound: \", relnum*(totnum+1)/2-0.675*math.sqrt(relnum*nonnum*(totnum+1)/12))"
   ]
  },
  {
   "cell_type": "markdown",
   "metadata": {},
   "source": [
    "# Correlation"
   ]
  },
  {
   "cell_type": "markdown",
   "metadata": {},
   "source": [
    "\n",
    "- spearman vs pearson\n",
    "\n"
   ]
  },
  {
   "cell_type": "markdown",
   "metadata": {},
   "source": [
    "# Categories"
   ]
  },
  {
   "cell_type": "markdown",
   "metadata": {},
   "source": [
    "jussi@hetimiten:~/Desktop/data$ wc -l *nopar*\n",
    "  1275472 GH95-nopar-clean.txt\n",
    "  4027238 LAT94-nopar-clean.txt\n",
    "  5302710 total\n",
    "jussi@hetimiten:~/Desktop/data$ grep -cw prayer GH95-nopar-clean.txt \n",
    "212\n",
    "jussi@hetimiten:~/Desktop/data$ grep -cvw prayer GH95-nopar-clean.txt \n",
    "1275260\n",
    "jussi@hetimiten:~/Desktop/data$ grep -cvw prayer LAT94-nopar-clean.txt \n",
    "4025924\n",
    "jussi@hetimiten:~/Desktop/data$ grep -cw prayer LAT94-nopar-clean.txt \n",
    "1314\n",
    "\n",
    "boys' vs girls' first names as first name of first author vs \"I\"\n",
    "\n",
    "jussi@hetimiten:~/Desktop/data$ grep -cw \"i\" clean-boys.GH.en \n",
    "69164\n",
    "jussi@hetimiten:~/Desktop/data$ grep -cvw \"i\" clean-boys.GH.en \n",
    "3790936\n",
    "jussi@hetimiten:~/Desktop/data$ grep -cvw \"i\" clean-girls.GH.en \n",
    "1020010\n",
    "jussi@hetimiten:~/Desktop/data$ grep -cw \"i\" clean-girls.GH.en \n",
    "19821\n",
    "\n",
    "jussi@hetimiten:~/Desktop/data$ grep -cw \"i\" clean-girls.LAT.en\n",
    "83718\n",
    "jussi@hetimiten:~/Desktop/data$ grep -cvw \"i\" clean-girls.LAT.en\n",
    "4470148\n",
    "jussi@hetimiten:~/Desktop/data$ grep -cvw \"i\" clean-boys.LAT.en\n",
    "10103925\n",
    "jussi@hetimiten:~/Desktop/data$ grep -cw \"i\" clean-boys.LAT.en\n",
    "181209\n",
    "\n"
   ]
  },
  {
   "cell_type": "code",
   "execution_count": 34,
   "metadata": {},
   "outputs": [],
   "source": [
    "#crosstab=np.array([[212,1275260],[1314,4025924]]) #prayer x ukus\n",
    "crosstab=np.array([[69164,3790936],[19821,1020010]]) #i x gender uk\n",
    "#crosstab=np.array([[181209,10103925],[83718,4470148]]) #i x gender us"
   ]
  },
  {
   "cell_type": "code",
   "execution_count": 25,
   "metadata": {},
   "outputs": [
    {
     "name": "stdout",
     "output_type": "stream",
     "text": [
      "_\t_\t1275472\n",
      "_\t_\t4027238\n",
      "1526\t5301184\t5302710\n"
     ]
    }
   ],
   "source": [
    "def margins1 (a):\n",
    "    row0sum = a[0].sum()\n",
    "    row1sum = a[1].sum()\n",
    "    col0sum = a[:,0].sum()\n",
    "    col1sum = a[:,1].sum()\n",
    "    bign = row0sum+row1sum\n",
    "    print(\"_\", end = \"\\t\")\n",
    "    print(\"_\", end = \"\\t\")\n",
    "    print(row0sum)\n",
    "    print(\"_\", end = \"\\t\")\n",
    "    print(\"_\", end = \"\\t\")\n",
    "    print(row1sum)\n",
    "    print(col0sum, end = \"\\t\")\n",
    "    print(col1sum, end = \"\\t\")\n",
    "    print(bign)\n",
    "    \n",
    "margins1(crosstab)"
   ]
  },
  {
   "cell_type": "code",
   "execution_count": 26,
   "metadata": {},
   "outputs": [
    {
     "data": {
      "text/plain": [
       "(2, 2)"
      ]
     },
     "execution_count": 26,
     "metadata": {},
     "output_type": "execute_result"
    }
   ],
   "source": [
    "crosstab.shape"
   ]
  },
  {
   "cell_type": "code",
   "execution_count": 27,
   "metadata": {},
   "outputs": [],
   "source": [
    "d=crosstab.shape"
   ]
  },
  {
   "cell_type": "code",
   "execution_count": 28,
   "metadata": {},
   "outputs": [
    {
     "data": {
      "text/plain": [
       "2"
      ]
     },
     "execution_count": 28,
     "metadata": {},
     "output_type": "execute_result"
    }
   ],
   "source": [
    "d[0]"
   ]
  },
  {
   "cell_type": "code",
   "execution_count": 29,
   "metadata": {},
   "outputs": [
    {
     "name": "stdout",
     "output_type": "stream",
     "text": [
      "______\t_________\t1275472.0\n",
      "______\t_________\t4027238.0\n",
      "1526.0\t5301184.0\t5302710.0\n"
     ]
    }
   ],
   "source": [
    "def margins2 (a):\n",
    "    d = a.shape\n",
    "    if (len (d)  > 2):\n",
    "        raise(\"Wrong format for this function\")\n",
    "    rows=d[0]  # unnecessary, but clear\n",
    "    cols=d[1]  # unnecessary, but clear\n",
    "    rowsums = np.array([])\n",
    "    colsums = np.array([])\n",
    "    bign = 0\n",
    "    for i in range(rows):\n",
    "        rowsums = np.insert(rowsums,i,a[i].sum()) # not right! don't use insert here!\n",
    "    for j in range(cols):\n",
    "        colsums = np.insert(colsums,j,a[:,j].sum())\n",
    "    bign = rowsums.sum()\n",
    "    for k in range(rows):\n",
    "        for l in range(cols):\n",
    "            print(\"_\"*len(str(colsums[l])), end = \"\\t\")\n",
    "        print(rowsums[k])\n",
    "    for l in range(cols):\n",
    "        print(colsums[l], end=\"\\t\")\n",
    "    print(bign)\n",
    "\n",
    "m=margins2(crosstab)"
   ]
  },
  {
   "cell_type": "markdown",
   "metadata": {},
   "source": [
    "better and more general. but it allows mistakes to be made at runtime!\n",
    "what happens if unexpected formats are input? rows of varying length? check for it."
   ]
  },
  {
   "cell_type": "markdown",
   "metadata": {},
   "source": [
    "lets now try returning a result"
   ]
  },
  {
   "cell_type": "code",
   "execution_count": 30,
   "metadata": {},
   "outputs": [
    {
     "name": "stdout",
     "output_type": "stream",
     "text": [
      "[[       0.        0.  1275472.]\n",
      " [       0.        0.  4027238.]\n",
      " [    1526.  5301184.  5302710.]]\n"
     ]
    }
   ],
   "source": [
    "def margins3 (a):\n",
    "    d = a.shape\n",
    "    if (len (d)  > 2):\n",
    "        raise(\"Wrong format for this function\")\n",
    "    rows=d[0]  # unnecessary, but clear\n",
    "    cols=d[1]  # unnecessary, but clear\n",
    "    margins = np.zeros((rows+1,cols+1))\n",
    "    bign = 0\n",
    "    for i in range(rows):\n",
    "        margins[i,cols] = a[i].sum()\n",
    "    for j in range(cols):\n",
    "        margins[rows,j] = a[:,j].sum()\n",
    "    margins[rows,cols] = margins[:,cols].sum()\n",
    "    return margins\n",
    "\n",
    "\n",
    "m=margins3(crosstab)\n",
    "print(m)"
   ]
  },
  {
   "cell_type": "code",
   "execution_count": 35,
   "metadata": {},
   "outputs": [
    {
     "name": "stdout",
     "output_type": "stream",
     "text": [
      "Degrees of freedom:  1\n",
      "Marginal sums:\n",
      "\n",
      "[[       0.        0.  3860100.]\n",
      " [       0.        0.  1039831.]\n",
      " [   88985.  4810946.  4899931.]]\n",
      "\n",
      "\n",
      "Expected values:\n",
      "\n",
      "[[   70101.1909  3789998.8091  3860100.    ]\n",
      " [   18883.8091  1020947.1909  1039831.    ]\n",
      " [   88985.      4810946.      4899931.    ]]\n",
      "\n",
      "\n",
      "A reminder about the observed values:\n",
      "\n",
      "\n",
      "[[  69164 3790936]\n",
      " [  19821 1020010]]\n",
      "\n",
      "\n",
      "Deviation from expected values:\n",
      "\n",
      "\n",
      "[[ 937.1909 -937.1909    0.    ]\n",
      " [-937.1909  937.1909    0.    ]\n",
      " [   0.        0.        0.    ]]\n",
      "\n",
      "\n"
     ]
    }
   ],
   "source": [
    "\n",
    "def deviation(crosstab):\n",
    "    d = crosstab.shape\n",
    "    if (len (d)  > 2):\n",
    "        raise(\"Wrong format for this function\")\n",
    "    rows=d[0]  # unnecessary, but clear\n",
    "    cols=d[1]  # unnecessary, but clear\n",
    "    print(\"Degrees of freedom: \",(rows-1)*(cols-1))\n",
    "    print(\"Marginal sums:\\n\")\n",
    "    expecteds=margins3(crosstab)\n",
    "    print(expecteds)\n",
    "    print(\"\\n\")\n",
    "    for k in range(rows):\n",
    "        for l in range(cols):\n",
    "            expecteds[k,l]=expecteds[k,cols]*expecteds[rows,l]/expecteds[rows,cols]\n",
    "    print(\"Expected values:\\n\")\n",
    "    print(expecteds)\n",
    "    print(\"\\n\")\n",
    "    sum = 0;   # oops, perl semicolon here. won't hurt but should not be there.\n",
    "    deviation=np.zeros((rows+1,cols+1))\n",
    "    for k in range(rows):\n",
    "        for l in range(cols):\n",
    "            deviation[k,l]=((expecteds[k,l]-crosstab[k,l]))\n",
    "\n",
    "    print(\"A reminder about the observed values:\")\n",
    "    print(\"\\n\")\n",
    "    print(crosstab)\n",
    "    print(\"\\n\")\n",
    "    print(\"Deviation from expected values:\")\n",
    "    print(\"\\n\")\n",
    "    print(deviation)\n",
    "    print(\"\\n\")\n",
    "\n",
    "deviation(crosstab)"
   ]
  },
  {
   "cell_type": "markdown",
   "metadata": {},
   "source": [
    "## The $\\chi^2$ measure\n",
    "\n",
    "Now let's quantify that deviation!\n",
    "Large deviation: strange; small deviation: less strange.\n",
    "We will use $\\chi²$. It depends on *degree of freedom* of the contingency table. \n"
   ]
  },
  {
   "cell_type": "code",
   "execution_count": 36,
   "metadata": {},
   "outputs": [
    {
     "name": "stdout",
     "output_type": "stream",
     "text": [
      "Degrees of freedom:  1\n",
      "Marginal sums:\n",
      "\n",
      "[[       0.        0.  3860100.]\n",
      " [       0.        0.  1039831.]\n",
      " [   88985.  4810946.  4899931.]]\n",
      "\n",
      "\n",
      "Expected values:\n",
      "\n",
      "[[   70101.1909  3789998.8091  3860100.    ]\n",
      " [   18883.8091  1020947.1909  1039831.    ]\n",
      " [   88985.      4810946.      4899931.    ]]\n",
      "\n",
      "\n",
      "A reminder about the observed values:\n",
      "\n",
      "\n",
      "[[  69164 3790936]\n",
      " [  19821 1020010]]\n",
      "\n",
      "\n",
      "Deviation from expected values:\n",
      "\n",
      "\n",
      "[[ 937.1909 -937.1909    0.    ]\n",
      " [-937.1909  937.1909    0.    ]\n",
      " [   0.        0.        0.    ]]\n",
      "\n",
      "\n",
      "60.1336311664\n"
     ]
    }
   ],
   "source": [
    "\n",
    "def khi2(crosstab):\n",
    "    d = crosstab.shape\n",
    "    if (len (d)  > 2):\n",
    "        raise(\"Wrong format for this function\")\n",
    "    rows=d[0]  # unnecessary, but clear\n",
    "    cols=d[1]  # unnecessary, but clear\n",
    "    print(\"Degrees of freedom: \",(rows-1)*(cols-1))\n",
    "    print(\"Marginal sums:\\n\")\n",
    "    expecteds=margins3(crosstab)\n",
    "    print(expecteds)\n",
    "    print(\"\\n\")\n",
    "    for k in range(rows):\n",
    "        for l in range(cols):\n",
    "            expecteds[k,l]=expecteds[k,cols]*expecteds[rows,l]/expecteds[rows,cols]\n",
    "    print(\"Expected values:\\n\")\n",
    "    print(expecteds)\n",
    "    print(\"\\n\")\n",
    "    sum = 0\n",
    "    deviation=np.zeros((rows+1,cols+1))\n",
    "    for k in range(rows):\n",
    "        for l in range(cols):\n",
    "            deviation[k,l]=((expecteds[k,l]-crosstab[k,l]))\n",
    "            sum += deviation[k,l]**2/expecteds[k,l]\n",
    "\n",
    "    print(\"A reminder about the observed values:\")\n",
    "    print(\"\\n\")\n",
    "    print(crosstab)\n",
    "    print(\"\\n\")\n",
    "    print(\"Deviation from expected values:\")\n",
    "    print(\"\\n\")\n",
    "    print(deviation)\n",
    "    print(\"\\n\")\n",
    "    print(sum)\n",
    "\n",
    "khi2(crosstab)"
   ]
  },
  {
   "cell_type": "markdown",
   "metadata": {},
   "source": [
    "This value can be looked up in a prepared table of expected variation. "
   ]
  },
  {
   "cell_type": "markdown",
   "metadata": {},
   "source": [
    "https://people.richland.edu/james/lecture/m170/tbl-chi.html"
   ]
  },
  {
   "cell_type": "markdown",
   "metadata": {},
   "source": [
    "### Exercise 7: the $\\chi²$ test is not suitable when the expected values in any of the cells of a contingency table are below 5. There is a fix for this condition. \n",
    "\n",
    "### Exercise 8: Look up and implement Fisher's exact test \n",
    "(And you will find a use for the factorial $x!$ you learnt in the beginning of the class.)\n"
   ]
  },
  {
   "cell_type": "markdown",
   "metadata": {},
   "source": [
    "# Discussion\n",
    "\n",
    "- Long vs short words? Which test? ([w for w in v if len(w) > 15])\n",
    "- Gender style? Which test?\n",
    "- Ultimately significance testing is a question of convincing yourself and your future readers that you have observed something of general interest. A statistical test is one tool for that argument, but not a sufficient nor a necessary one. \n",
    "\n",
    "\n",
    "# Project ideas\n",
    "\n",
    "- Mendenhall and other authorship attribution tests\n",
    "- Gender differences in text\n",
    "- Sentiment analysis\n",
    "- Use API:s! \n",
    "\n"
   ]
  }
 ],
 "metadata": {
  "kernelspec": {
   "display_name": "Python 3",
   "language": "python",
   "name": "python3"
  },
  "language_info": {
   "codemirror_mode": {
    "name": "ipython",
    "version": 3
   },
   "file_extension": ".py",
   "mimetype": "text/x-python",
   "name": "python",
   "nbconvert_exporter": "python",
   "pygments_lexer": "ipython3",
   "version": "3.5.2"
  }
 },
 "nbformat": 4,
 "nbformat_minor": 2
}
